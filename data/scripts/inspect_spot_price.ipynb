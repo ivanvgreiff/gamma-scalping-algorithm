{
 "cells": [
  {
   "cell_type": "code",
   "execution_count": 2,
   "id": "810c97be",
   "metadata": {},
   "outputs": [],
   "source": [
    "import pandas as pd\n",
    "from pathlib import Path\n",
    "from datetime import datetime\n",
    "import matplotlib.pyplot as plt\n",
    "\n",
    "# Set display spot\n",
    "pd.set_option('display.max_columns', None)\n",
    "pd.set_option('display.max_rows', 20)"
   ]
  },
  {
   "cell_type": "code",
   "execution_count": 3,
   "id": "43e92fbd",
   "metadata": {},
   "outputs": [
    {
     "name": "stdout",
     "output_type": "stream",
     "text": [
      "=== DATA OVERVIEW ===\n",
      "\n",
      "--- SPOT ---\n",
      "Files: 181 (2024-01-02 to 2024-06-30)\n",
      "          timestamp          id     price  quantity  is_buyer_maker  \\\n",
      "0  1711929600000000  3523985836  71280.00   0.00141            True   \n",
      "1  1711929600001000  3523985837  71280.00   0.00075            True   \n",
      "2  1711929600003000  3523985838  71280.00   0.00045            True   \n",
      "3  1711929600005000  3523985839  71280.00   0.00078            True   \n",
      "4  1711929600006000  3523985840  71280.01   0.00132           False   \n",
      "5  1711929600010000  3523985841  71280.00   0.00044            True   \n",
      "6  1711929600011000  3523985842  71280.00   0.00117            True   \n",
      "7  1711929600011000  3523985843  71280.00   0.00020            True   \n",
      "8  1711929600011000  3523985844  71280.01   0.00028           False   \n",
      "9  1711929600011000  3523985845  71280.01   0.00066           False   \n",
      "\n",
      "                          datetime  \n",
      "0        2024-04-01 00:00:00+00:00  \n",
      "1 2024-04-01 00:00:00.001000+00:00  \n",
      "2 2024-04-01 00:00:00.003000+00:00  \n",
      "3 2024-04-01 00:00:00.005000+00:00  \n",
      "4 2024-04-01 00:00:00.006000+00:00  \n",
      "5 2024-04-01 00:00:00.010000+00:00  \n",
      "6 2024-04-01 00:00:00.011000+00:00  \n",
      "7 2024-04-01 00:00:00.011000+00:00  \n",
      "8 2024-04-01 00:00:00.011000+00:00  \n",
      "9 2024-04-01 00:00:00.011000+00:00  \n",
      "Sample file: 2024-04-01.feather\n",
      "   Rows: 1,893,438\n",
      "   Columns: ['timestamp', 'id', 'price', 'quantity', 'is_buyer_maker', 'datetime']\n",
      "   Time range: 2024-04-01 00:00:00+00:00 to 2024-04-01 23:59:59.998000+00:00\n",
      "   Price range: $68062.8600 - $71288.2300\n"
     ]
    }
   ],
   "source": [
    "# Define data paths\n",
    "spot_path = Path('../raw/spot/feather/binance/BTCUSDT')\n",
    "\n",
    "print(\"=== DATA OVERVIEW ===\")\n",
    "\n",
    "print(\"\\n--- SPOT ---\")\n",
    "\n",
    "if not spot_path.exists():\n",
    "    print(\"No spot data found\")\n",
    "else:\n",
    "    files = sorted(list(spot_path.glob('*.feather')))\n",
    "    if not files:\n",
    "        print(\"No spot files found\")\n",
    "    else:\n",
    "        print(f\"Files: {len(files)} ({files[0].stem} to {files[-1].stem})\")\n",
    "        \n",
    "        # Load a sample file from the middle\n",
    "        sample_file = files[len(files)//2]\n",
    "        df = pd.read_feather(sample_file)\n",
    "        df['datetime'] = pd.to_datetime(df['timestamp'], unit='us', utc=True)\n",
    "\n",
    "        print(df.head(10))\n",
    "        \n",
    "        print(f\"Sample file: {sample_file.name}\")\n",
    "        print(f\"   Rows: {len(df):,}\")\n",
    "        print(f\"   Columns: {list(df.columns)}\")\n",
    "        \n",
    "        if 'timestamp' in df.columns:\n",
    "            df['datetime'] = pd.to_datetime(df['timestamp'], unit='us', utc=True)\n",
    "            print(f\"   Time range: {df['datetime'].min()} to {df['datetime'].max()}\")\n",
    "        \n",
    "        if 'price' in df.columns:\n",
    "            print(f\"   Price range: ${df['price'].min():.4f} - ${df['price'].max():.4f}\")\n",
    "        \n",
    "        if 'instrument' in df.columns:\n",
    "            print(f\"   Instruments: {df['instrument'].nunique()} unique\")\n",
    "            print(f\"   Top 3: {df['instrument'].value_counts().head(3).index.tolist()}\")"
   ]
  },
  {
   "cell_type": "code",
   "execution_count": 8,
   "id": "2b31d7c2",
   "metadata": {},
   "outputs": [
    {
     "name": "stdout",
     "output_type": "stream",
     "text": [
      "                           mid_price ($)   volume\n",
      "datetime                                         \n",
      "2024-04-01 00:00:00+00:00   71280.003469  0.58399\n",
      "2024-04-01 00:00:01+00:00   71284.796239  8.49194\n",
      "2024-04-01 00:00:02+00:00   71273.543356  6.15201\n",
      "2024-04-01 00:00:03+00:00   71258.078077  5.44813\n",
      "2024-04-01 00:00:04+00:00   71250.006818  0.44479\n",
      "                           mid_price ($)   volume\n",
      "datetime                                         \n",
      "2024-04-01 23:59:55+00:00   69649.805000  0.00189\n",
      "2024-04-01 23:59:56+00:00   69649.806000  0.01421\n",
      "2024-04-01 23:59:57+00:00   69649.810000  0.00331\n",
      "2024-04-01 23:59:58+00:00   69649.805000  0.00094\n",
      "2024-04-01 23:59:59+00:00   69649.805333  0.21433\n",
      "84552\n"
     ]
    }
   ],
   "source": [
    "df['datetime'] = pd.to_datetime(df['datetime'], utc=True)\n",
    "\n",
    "# Group into 1-second bins\n",
    "spot_1s = (\n",
    "    df.set_index('datetime')\n",
    "      .resample('1s')\n",
    "      .agg({\n",
    "          'price': 'mean',       # average price in that second\n",
    "          'quantity': 'sum',     # total volume in that second\n",
    "      })\n",
    "      .dropna()  # remove seconds with no trades\n",
    ")\n",
    "\n",
    "spot_1s.rename(columns={'price': 'mid_price ($)', 'quantity': 'volume'}, inplace=True)\n",
    "\n",
    "print(spot_1s.head())\n",
    "print(spot_1s.tail())\n",
    "print(len(spot_1s))\n"
   ]
  },
  {
   "cell_type": "code",
   "execution_count": null,
   "id": "3379c3f1",
   "metadata": {},
   "outputs": [
    {
     "name": "stdout",
     "output_type": "stream",
     "text": [
      "Found 181 files\n"
     ]
    },
    {
     "name": "stderr",
     "output_type": "stream",
     "text": [
      "/var/folders/nn/80hngvbx12l0bp84pd944rqw0000gn/T/ipykernel_26251/1128474090.py:15: FutureWarning: 'S' is deprecated and will be removed in a future version, please use 's' instead.\n",
      "  .resample('1S')\n"
     ]
    },
    {
     "name": "stdout",
     "output_type": "stream",
     "text": [
      "Processed 2024-01-02.feather → 85444 seconds\n"
     ]
    },
    {
     "name": "stderr",
     "output_type": "stream",
     "text": [
      "/var/folders/nn/80hngvbx12l0bp84pd944rqw0000gn/T/ipykernel_26251/1128474090.py:15: FutureWarning: 'S' is deprecated and will be removed in a future version, please use 's' instead.\n",
      "  .resample('1S')\n"
     ]
    },
    {
     "name": "stdout",
     "output_type": "stream",
     "text": [
      "Processed 2024-01-03.feather → 84601 seconds\n"
     ]
    },
    {
     "name": "stderr",
     "output_type": "stream",
     "text": [
      "/var/folders/nn/80hngvbx12l0bp84pd944rqw0000gn/T/ipykernel_26251/1128474090.py:15: FutureWarning: 'S' is deprecated and will be removed in a future version, please use 's' instead.\n",
      "  .resample('1S')\n"
     ]
    },
    {
     "name": "stdout",
     "output_type": "stream",
     "text": [
      "Processed 2024-01-04.feather → 84552 seconds\n"
     ]
    },
    {
     "name": "stderr",
     "output_type": "stream",
     "text": [
      "/var/folders/nn/80hngvbx12l0bp84pd944rqw0000gn/T/ipykernel_26251/1128474090.py:15: FutureWarning: 'S' is deprecated and will be removed in a future version, please use 's' instead.\n",
      "  .resample('1S')\n"
     ]
    },
    {
     "name": "stdout",
     "output_type": "stream",
     "text": [
      "Processed 2024-01-05.feather → 84136 seconds\n",
      "Processed 2024-01-06.feather → 81771 seconds\n"
     ]
    },
    {
     "name": "stderr",
     "output_type": "stream",
     "text": [
      "/var/folders/nn/80hngvbx12l0bp84pd944rqw0000gn/T/ipykernel_26251/1128474090.py:15: FutureWarning: 'S' is deprecated and will be removed in a future version, please use 's' instead.\n",
      "  .resample('1S')\n",
      "/var/folders/nn/80hngvbx12l0bp84pd944rqw0000gn/T/ipykernel_26251/1128474090.py:15: FutureWarning: 'S' is deprecated and will be removed in a future version, please use 's' instead.\n",
      "  .resample('1S')\n"
     ]
    },
    {
     "name": "stdout",
     "output_type": "stream",
     "text": [
      "Processed 2024-01-07.feather → 80833 seconds\n"
     ]
    },
    {
     "name": "stderr",
     "output_type": "stream",
     "text": [
      "/var/folders/nn/80hngvbx12l0bp84pd944rqw0000gn/T/ipykernel_26251/1128474090.py:15: FutureWarning: 'S' is deprecated and will be removed in a future version, please use 's' instead.\n",
      "  .resample('1S')\n"
     ]
    },
    {
     "name": "stdout",
     "output_type": "stream",
     "text": [
      "Processed 2024-01-08.feather → 84220 seconds\n"
     ]
    },
    {
     "name": "stderr",
     "output_type": "stream",
     "text": [
      "/var/folders/nn/80hngvbx12l0bp84pd944rqw0000gn/T/ipykernel_26251/1128474090.py:15: FutureWarning: 'S' is deprecated and will be removed in a future version, please use 's' instead.\n",
      "  .resample('1S')\n"
     ]
    },
    {
     "name": "stdout",
     "output_type": "stream",
     "text": [
      "Processed 2024-01-09.feather → 84976 seconds\n"
     ]
    },
    {
     "name": "stderr",
     "output_type": "stream",
     "text": [
      "/var/folders/nn/80hngvbx12l0bp84pd944rqw0000gn/T/ipykernel_26251/1128474090.py:15: FutureWarning: 'S' is deprecated and will be removed in a future version, please use 's' instead.\n",
      "  .resample('1S')\n"
     ]
    },
    {
     "name": "stdout",
     "output_type": "stream",
     "text": [
      "Processed 2024-01-10.feather → 84714 seconds\n"
     ]
    },
    {
     "name": "stderr",
     "output_type": "stream",
     "text": [
      "/var/folders/nn/80hngvbx12l0bp84pd944rqw0000gn/T/ipykernel_26251/1128474090.py:15: FutureWarning: 'S' is deprecated and will be removed in a future version, please use 's' instead.\n",
      "  .resample('1S')\n"
     ]
    },
    {
     "name": "stdout",
     "output_type": "stream",
     "text": [
      "Processed 2024-01-11.feather → 85450 seconds\n"
     ]
    },
    {
     "name": "stderr",
     "output_type": "stream",
     "text": [
      "/var/folders/nn/80hngvbx12l0bp84pd944rqw0000gn/T/ipykernel_26251/1128474090.py:15: FutureWarning: 'S' is deprecated and will be removed in a future version, please use 's' instead.\n",
      "  .resample('1S')\n"
     ]
    },
    {
     "name": "stdout",
     "output_type": "stream",
     "text": [
      "Processed 2024-01-12.feather → 84930 seconds\n"
     ]
    },
    {
     "name": "stderr",
     "output_type": "stream",
     "text": [
      "/var/folders/nn/80hngvbx12l0bp84pd944rqw0000gn/T/ipykernel_26251/1128474090.py:15: FutureWarning: 'S' is deprecated and will be removed in a future version, please use 's' instead.\n",
      "  .resample('1S')\n"
     ]
    },
    {
     "name": "stdout",
     "output_type": "stream",
     "text": [
      "Processed 2024-01-13.feather → 84034 seconds\n"
     ]
    },
    {
     "name": "stderr",
     "output_type": "stream",
     "text": [
      "/var/folders/nn/80hngvbx12l0bp84pd944rqw0000gn/T/ipykernel_26251/1128474090.py:15: FutureWarning: 'S' is deprecated and will be removed in a future version, please use 's' instead.\n",
      "  .resample('1S')\n"
     ]
    },
    {
     "name": "stdout",
     "output_type": "stream",
     "text": [
      "Processed 2024-01-14.feather → 81129 seconds\n"
     ]
    },
    {
     "name": "stderr",
     "output_type": "stream",
     "text": [
      "/var/folders/nn/80hngvbx12l0bp84pd944rqw0000gn/T/ipykernel_26251/1128474090.py:15: FutureWarning: 'S' is deprecated and will be removed in a future version, please use 's' instead.\n",
      "  .resample('1S')\n"
     ]
    },
    {
     "name": "stdout",
     "output_type": "stream",
     "text": [
      "Processed 2024-01-15.feather → 82424 seconds\n"
     ]
    },
    {
     "name": "stderr",
     "output_type": "stream",
     "text": [
      "/var/folders/nn/80hngvbx12l0bp84pd944rqw0000gn/T/ipykernel_26251/1128474090.py:15: FutureWarning: 'S' is deprecated and will be removed in a future version, please use 's' instead.\n",
      "  .resample('1S')\n"
     ]
    },
    {
     "name": "stdout",
     "output_type": "stream",
     "text": [
      "Processed 2024-01-16.feather → 82311 seconds\n"
     ]
    },
    {
     "name": "stderr",
     "output_type": "stream",
     "text": [
      "/var/folders/nn/80hngvbx12l0bp84pd944rqw0000gn/T/ipykernel_26251/1128474090.py:15: FutureWarning: 'S' is deprecated and will be removed in a future version, please use 's' instead.\n",
      "  .resample('1S')\n"
     ]
    },
    {
     "name": "stdout",
     "output_type": "stream",
     "text": [
      "Processed 2024-01-17.feather → 81844 seconds\n"
     ]
    },
    {
     "name": "stderr",
     "output_type": "stream",
     "text": [
      "/var/folders/nn/80hngvbx12l0bp84pd944rqw0000gn/T/ipykernel_26251/1128474090.py:15: FutureWarning: 'S' is deprecated and will be removed in a future version, please use 's' instead.\n",
      "  .resample('1S')\n"
     ]
    },
    {
     "name": "stdout",
     "output_type": "stream",
     "text": [
      "Processed 2024-01-18.feather → 82224 seconds\n"
     ]
    },
    {
     "name": "stderr",
     "output_type": "stream",
     "text": [
      "/var/folders/nn/80hngvbx12l0bp84pd944rqw0000gn/T/ipykernel_26251/1128474090.py:15: FutureWarning: 'S' is deprecated and will be removed in a future version, please use 's' instead.\n",
      "  .resample('1S')\n",
      "/var/folders/nn/80hngvbx12l0bp84pd944rqw0000gn/T/ipykernel_26251/1128474090.py:15: FutureWarning: 'S' is deprecated and will be removed in a future version, please use 's' instead.\n",
      "  .resample('1S')\n"
     ]
    },
    {
     "name": "stdout",
     "output_type": "stream",
     "text": [
      "Processed 2024-01-19.feather → 83336 seconds\n",
      "Processed 2024-01-20.feather → 80432 seconds\n"
     ]
    },
    {
     "name": "stderr",
     "output_type": "stream",
     "text": [
      "/var/folders/nn/80hngvbx12l0bp84pd944rqw0000gn/T/ipykernel_26251/1128474090.py:15: FutureWarning: 'S' is deprecated and will be removed in a future version, please use 's' instead.\n",
      "  .resample('1S')\n"
     ]
    },
    {
     "name": "stdout",
     "output_type": "stream",
     "text": [
      "Processed 2024-01-21.feather → 78543 seconds\n"
     ]
    },
    {
     "name": "stderr",
     "output_type": "stream",
     "text": [
      "/var/folders/nn/80hngvbx12l0bp84pd944rqw0000gn/T/ipykernel_26251/1128474090.py:15: FutureWarning: 'S' is deprecated and will be removed in a future version, please use 's' instead.\n",
      "  .resample('1S')\n"
     ]
    },
    {
     "name": "stdout",
     "output_type": "stream",
     "text": [
      "Processed 2024-01-22.feather → 83275 seconds\n"
     ]
    },
    {
     "name": "stderr",
     "output_type": "stream",
     "text": [
      "/var/folders/nn/80hngvbx12l0bp84pd944rqw0000gn/T/ipykernel_26251/1128474090.py:15: FutureWarning: 'S' is deprecated and will be removed in a future version, please use 's' instead.\n",
      "  .resample('1S')\n"
     ]
    },
    {
     "name": "stdout",
     "output_type": "stream",
     "text": [
      "Processed 2024-01-23.feather → 83612 seconds\n"
     ]
    },
    {
     "name": "stderr",
     "output_type": "stream",
     "text": [
      "/var/folders/nn/80hngvbx12l0bp84pd944rqw0000gn/T/ipykernel_26251/1128474090.py:15: FutureWarning: 'S' is deprecated and will be removed in a future version, please use 's' instead.\n",
      "  .resample('1S')\n"
     ]
    },
    {
     "name": "stdout",
     "output_type": "stream",
     "text": [
      "Processed 2024-01-24.feather → 82157 seconds\n"
     ]
    },
    {
     "name": "stderr",
     "output_type": "stream",
     "text": [
      "/var/folders/nn/80hngvbx12l0bp84pd944rqw0000gn/T/ipykernel_26251/1128474090.py:15: FutureWarning: 'S' is deprecated and will be removed in a future version, please use 's' instead.\n",
      "  .resample('1S')\n"
     ]
    },
    {
     "name": "stdout",
     "output_type": "stream",
     "text": [
      "Processed 2024-01-25.feather → 80849 seconds\n"
     ]
    },
    {
     "name": "stderr",
     "output_type": "stream",
     "text": [
      "/var/folders/nn/80hngvbx12l0bp84pd944rqw0000gn/T/ipykernel_26251/1128474090.py:15: FutureWarning: 'S' is deprecated and will be removed in a future version, please use 's' instead.\n",
      "  .resample('1S')\n",
      "/var/folders/nn/80hngvbx12l0bp84pd944rqw0000gn/T/ipykernel_26251/1128474090.py:15: FutureWarning: 'S' is deprecated and will be removed in a future version, please use 's' instead.\n",
      "  .resample('1S')\n"
     ]
    },
    {
     "name": "stdout",
     "output_type": "stream",
     "text": [
      "Processed 2024-01-26.feather → 81438 seconds\n",
      "Processed 2024-01-27.feather → 78970 seconds\n"
     ]
    },
    {
     "name": "stderr",
     "output_type": "stream",
     "text": [
      "/var/folders/nn/80hngvbx12l0bp84pd944rqw0000gn/T/ipykernel_26251/1128474090.py:15: FutureWarning: 'S' is deprecated and will be removed in a future version, please use 's' instead.\n",
      "  .resample('1S')\n"
     ]
    },
    {
     "name": "stdout",
     "output_type": "stream",
     "text": [
      "Processed 2024-01-28.feather → 79589 seconds\n"
     ]
    },
    {
     "name": "stderr",
     "output_type": "stream",
     "text": [
      "/var/folders/nn/80hngvbx12l0bp84pd944rqw0000gn/T/ipykernel_26251/1128474090.py:15: FutureWarning: 'S' is deprecated and will be removed in a future version, please use 's' instead.\n",
      "  .resample('1S')\n"
     ]
    },
    {
     "name": "stdout",
     "output_type": "stream",
     "text": [
      "Processed 2024-01-29.feather → 80509 seconds\n"
     ]
    },
    {
     "name": "stderr",
     "output_type": "stream",
     "text": [
      "/var/folders/nn/80hngvbx12l0bp84pd944rqw0000gn/T/ipykernel_26251/1128474090.py:15: FutureWarning: 'S' is deprecated and will be removed in a future version, please use 's' instead.\n",
      "  .resample('1S')\n"
     ]
    },
    {
     "name": "stdout",
     "output_type": "stream",
     "text": [
      "Processed 2024-01-30.feather → 83133 seconds\n"
     ]
    },
    {
     "name": "stderr",
     "output_type": "stream",
     "text": [
      "/var/folders/nn/80hngvbx12l0bp84pd944rqw0000gn/T/ipykernel_26251/1128474090.py:15: FutureWarning: 'S' is deprecated and will be removed in a future version, please use 's' instead.\n",
      "  .resample('1S')\n"
     ]
    },
    {
     "name": "stdout",
     "output_type": "stream",
     "text": [
      "Processed 2024-01-31.feather → 82153 seconds\n"
     ]
    },
    {
     "name": "stderr",
     "output_type": "stream",
     "text": [
      "/var/folders/nn/80hngvbx12l0bp84pd944rqw0000gn/T/ipykernel_26251/1128474090.py:15: FutureWarning: 'S' is deprecated and will be removed in a future version, please use 's' instead.\n",
      "  .resample('1S')\n"
     ]
    },
    {
     "name": "stdout",
     "output_type": "stream",
     "text": [
      "Processed 2024-02-01.feather → 82515 seconds\n"
     ]
    },
    {
     "name": "stderr",
     "output_type": "stream",
     "text": [
      "/var/folders/nn/80hngvbx12l0bp84pd944rqw0000gn/T/ipykernel_26251/1128474090.py:15: FutureWarning: 'S' is deprecated and will be removed in a future version, please use 's' instead.\n",
      "  .resample('1S')\n",
      "/var/folders/nn/80hngvbx12l0bp84pd944rqw0000gn/T/ipykernel_26251/1128474090.py:15: FutureWarning: 'S' is deprecated and will be removed in a future version, please use 's' instead.\n",
      "  .resample('1S')\n"
     ]
    },
    {
     "name": "stdout",
     "output_type": "stream",
     "text": [
      "Processed 2024-02-02.feather → 80878 seconds\n",
      "Processed 2024-02-03.feather → 78487 seconds\n"
     ]
    },
    {
     "name": "stderr",
     "output_type": "stream",
     "text": [
      "/var/folders/nn/80hngvbx12l0bp84pd944rqw0000gn/T/ipykernel_26251/1128474090.py:15: FutureWarning: 'S' is deprecated and will be removed in a future version, please use 's' instead.\n",
      "  .resample('1S')\n"
     ]
    },
    {
     "name": "stdout",
     "output_type": "stream",
     "text": [
      "Processed 2024-02-04.feather → 77349 seconds\n"
     ]
    },
    {
     "name": "stderr",
     "output_type": "stream",
     "text": [
      "/var/folders/nn/80hngvbx12l0bp84pd944rqw0000gn/T/ipykernel_26251/1128474090.py:15: FutureWarning: 'S' is deprecated and will be removed in a future version, please use 's' instead.\n",
      "  .resample('1S')\n"
     ]
    },
    {
     "name": "stdout",
     "output_type": "stream",
     "text": [
      "Processed 2024-02-05.feather → 80489 seconds\n"
     ]
    },
    {
     "name": "stderr",
     "output_type": "stream",
     "text": [
      "/var/folders/nn/80hngvbx12l0bp84pd944rqw0000gn/T/ipykernel_26251/1128474090.py:15: FutureWarning: 'S' is deprecated and will be removed in a future version, please use 's' instead.\n",
      "  .resample('1S')\n"
     ]
    },
    {
     "name": "stdout",
     "output_type": "stream",
     "text": [
      "Processed 2024-02-06.feather → 79993 seconds\n"
     ]
    },
    {
     "name": "stderr",
     "output_type": "stream",
     "text": [
      "/var/folders/nn/80hngvbx12l0bp84pd944rqw0000gn/T/ipykernel_26251/1128474090.py:15: FutureWarning: 'S' is deprecated and will be removed in a future version, please use 's' instead.\n",
      "  .resample('1S')\n"
     ]
    },
    {
     "name": "stdout",
     "output_type": "stream",
     "text": [
      "Processed 2024-02-07.feather → 81291 seconds\n"
     ]
    },
    {
     "name": "stderr",
     "output_type": "stream",
     "text": [
      "/var/folders/nn/80hngvbx12l0bp84pd944rqw0000gn/T/ipykernel_26251/1128474090.py:15: FutureWarning: 'S' is deprecated and will be removed in a future version, please use 's' instead.\n",
      "  .resample('1S')\n"
     ]
    },
    {
     "name": "stdout",
     "output_type": "stream",
     "text": [
      "Processed 2024-02-08.feather → 83401 seconds\n"
     ]
    },
    {
     "name": "stderr",
     "output_type": "stream",
     "text": [
      "/var/folders/nn/80hngvbx12l0bp84pd944rqw0000gn/T/ipykernel_26251/1128474090.py:15: FutureWarning: 'S' is deprecated and will be removed in a future version, please use 's' instead.\n",
      "  .resample('1S')\n"
     ]
    },
    {
     "name": "stdout",
     "output_type": "stream",
     "text": [
      "Processed 2024-02-09.feather → 84708 seconds\n"
     ]
    },
    {
     "name": "stderr",
     "output_type": "stream",
     "text": [
      "/var/folders/nn/80hngvbx12l0bp84pd944rqw0000gn/T/ipykernel_26251/1128474090.py:15: FutureWarning: 'S' is deprecated and will be removed in a future version, please use 's' instead.\n",
      "  .resample('1S')\n"
     ]
    },
    {
     "name": "stdout",
     "output_type": "stream",
     "text": [
      "Processed 2024-02-10.feather → 82607 seconds\n"
     ]
    },
    {
     "name": "stderr",
     "output_type": "stream",
     "text": [
      "/var/folders/nn/80hngvbx12l0bp84pd944rqw0000gn/T/ipykernel_26251/1128474090.py:15: FutureWarning: 'S' is deprecated and will be removed in a future version, please use 's' instead.\n",
      "  .resample('1S')\n"
     ]
    },
    {
     "name": "stdout",
     "output_type": "stream",
     "text": [
      "Processed 2024-02-11.feather → 81793 seconds\n"
     ]
    },
    {
     "name": "stderr",
     "output_type": "stream",
     "text": [
      "/var/folders/nn/80hngvbx12l0bp84pd944rqw0000gn/T/ipykernel_26251/1128474090.py:15: FutureWarning: 'S' is deprecated and will be removed in a future version, please use 's' instead.\n",
      "  .resample('1S')\n"
     ]
    },
    {
     "name": "stdout",
     "output_type": "stream",
     "text": [
      "Processed 2024-02-12.feather → 84004 seconds\n"
     ]
    },
    {
     "name": "stderr",
     "output_type": "stream",
     "text": [
      "/var/folders/nn/80hngvbx12l0bp84pd944rqw0000gn/T/ipykernel_26251/1128474090.py:15: FutureWarning: 'S' is deprecated and will be removed in a future version, please use 's' instead.\n",
      "  .resample('1S')\n"
     ]
    },
    {
     "name": "stdout",
     "output_type": "stream",
     "text": [
      "Processed 2024-02-13.feather → 84592 seconds\n"
     ]
    },
    {
     "name": "stderr",
     "output_type": "stream",
     "text": [
      "/var/folders/nn/80hngvbx12l0bp84pd944rqw0000gn/T/ipykernel_26251/1128474090.py:15: FutureWarning: 'S' is deprecated and will be removed in a future version, please use 's' instead.\n",
      "  .resample('1S')\n"
     ]
    },
    {
     "name": "stdout",
     "output_type": "stream",
     "text": [
      "Processed 2024-02-14.feather → 84031 seconds\n"
     ]
    },
    {
     "name": "stderr",
     "output_type": "stream",
     "text": [
      "/var/folders/nn/80hngvbx12l0bp84pd944rqw0000gn/T/ipykernel_26251/1128474090.py:15: FutureWarning: 'S' is deprecated and will be removed in a future version, please use 's' instead.\n",
      "  .resample('1S')\n"
     ]
    },
    {
     "name": "stdout",
     "output_type": "stream",
     "text": [
      "Processed 2024-02-15.feather → 85273 seconds\n"
     ]
    },
    {
     "name": "stderr",
     "output_type": "stream",
     "text": [
      "/var/folders/nn/80hngvbx12l0bp84pd944rqw0000gn/T/ipykernel_26251/1128474090.py:15: FutureWarning: 'S' is deprecated and will be removed in a future version, please use 's' instead.\n",
      "  .resample('1S')\n"
     ]
    },
    {
     "name": "stdout",
     "output_type": "stream",
     "text": [
      "Processed 2024-02-16.feather → 84319 seconds\n"
     ]
    },
    {
     "name": "stderr",
     "output_type": "stream",
     "text": [
      "/var/folders/nn/80hngvbx12l0bp84pd944rqw0000gn/T/ipykernel_26251/1128474090.py:15: FutureWarning: 'S' is deprecated and will be removed in a future version, please use 's' instead.\n",
      "  .resample('1S')\n"
     ]
    },
    {
     "name": "stdout",
     "output_type": "stream",
     "text": [
      "Processed 2024-02-17.feather → 83730 seconds\n"
     ]
    },
    {
     "name": "stderr",
     "output_type": "stream",
     "text": [
      "/var/folders/nn/80hngvbx12l0bp84pd944rqw0000gn/T/ipykernel_26251/1128474090.py:15: FutureWarning: 'S' is deprecated and will be removed in a future version, please use 's' instead.\n",
      "  .resample('1S')\n"
     ]
    },
    {
     "name": "stdout",
     "output_type": "stream",
     "text": [
      "Processed 2024-02-18.feather → 84160 seconds\n"
     ]
    },
    {
     "name": "stderr",
     "output_type": "stream",
     "text": [
      "/var/folders/nn/80hngvbx12l0bp84pd944rqw0000gn/T/ipykernel_26251/1128474090.py:15: FutureWarning: 'S' is deprecated and will be removed in a future version, please use 's' instead.\n",
      "  .resample('1S')\n"
     ]
    },
    {
     "name": "stdout",
     "output_type": "stream",
     "text": [
      "Processed 2024-02-19.feather → 84635 seconds\n"
     ]
    },
    {
     "name": "stderr",
     "output_type": "stream",
     "text": [
      "/var/folders/nn/80hngvbx12l0bp84pd944rqw0000gn/T/ipykernel_26251/1128474090.py:15: FutureWarning: 'S' is deprecated and will be removed in a future version, please use 's' instead.\n",
      "  .resample('1S')\n"
     ]
    },
    {
     "name": "stdout",
     "output_type": "stream",
     "text": [
      "Processed 2024-02-20.feather → 84020 seconds\n"
     ]
    },
    {
     "name": "stderr",
     "output_type": "stream",
     "text": [
      "/var/folders/nn/80hngvbx12l0bp84pd944rqw0000gn/T/ipykernel_26251/1128474090.py:15: FutureWarning: 'S' is deprecated and will be removed in a future version, please use 's' instead.\n",
      "  .resample('1S')\n"
     ]
    },
    {
     "name": "stdout",
     "output_type": "stream",
     "text": [
      "Processed 2024-02-21.feather → 83675 seconds\n"
     ]
    },
    {
     "name": "stderr",
     "output_type": "stream",
     "text": [
      "/var/folders/nn/80hngvbx12l0bp84pd944rqw0000gn/T/ipykernel_26251/1128474090.py:15: FutureWarning: 'S' is deprecated and will be removed in a future version, please use 's' instead.\n",
      "  .resample('1S')\n"
     ]
    },
    {
     "name": "stdout",
     "output_type": "stream",
     "text": [
      "Processed 2024-02-22.feather → 83762 seconds\n"
     ]
    },
    {
     "name": "stderr",
     "output_type": "stream",
     "text": [
      "/var/folders/nn/80hngvbx12l0bp84pd944rqw0000gn/T/ipykernel_26251/1128474090.py:15: FutureWarning: 'S' is deprecated and will be removed in a future version, please use 's' instead.\n",
      "  .resample('1S')\n",
      "/var/folders/nn/80hngvbx12l0bp84pd944rqw0000gn/T/ipykernel_26251/1128474090.py:15: FutureWarning: 'S' is deprecated and will be removed in a future version, please use 's' instead.\n",
      "  .resample('1S')\n"
     ]
    },
    {
     "name": "stdout",
     "output_type": "stream",
     "text": [
      "Processed 2024-02-23.feather → 82665 seconds\n",
      "Processed 2024-02-24.feather → 82215 seconds\n"
     ]
    },
    {
     "name": "stderr",
     "output_type": "stream",
     "text": [
      "/var/folders/nn/80hngvbx12l0bp84pd944rqw0000gn/T/ipykernel_26251/1128474090.py:15: FutureWarning: 'S' is deprecated and will be removed in a future version, please use 's' instead.\n",
      "  .resample('1S')\n"
     ]
    },
    {
     "name": "stdout",
     "output_type": "stream",
     "text": [
      "Processed 2024-02-25.feather → 82029 seconds\n"
     ]
    },
    {
     "name": "stderr",
     "output_type": "stream",
     "text": [
      "/var/folders/nn/80hngvbx12l0bp84pd944rqw0000gn/T/ipykernel_26251/1128474090.py:15: FutureWarning: 'S' is deprecated and will be removed in a future version, please use 's' instead.\n",
      "  .resample('1S')\n"
     ]
    },
    {
     "name": "stdout",
     "output_type": "stream",
     "text": [
      "Processed 2024-02-26.feather → 84270 seconds\n"
     ]
    },
    {
     "name": "stderr",
     "output_type": "stream",
     "text": [
      "/var/folders/nn/80hngvbx12l0bp84pd944rqw0000gn/T/ipykernel_26251/1128474090.py:15: FutureWarning: 'S' is deprecated and will be removed in a future version, please use 's' instead.\n",
      "  .resample('1S')\n"
     ]
    },
    {
     "name": "stdout",
     "output_type": "stream",
     "text": [
      "Processed 2024-02-27.feather → 85890 seconds\n"
     ]
    },
    {
     "name": "stderr",
     "output_type": "stream",
     "text": [
      "/var/folders/nn/80hngvbx12l0bp84pd944rqw0000gn/T/ipykernel_26251/1128474090.py:15: FutureWarning: 'S' is deprecated and will be removed in a future version, please use 's' instead.\n",
      "  .resample('1S')\n"
     ]
    },
    {
     "name": "stdout",
     "output_type": "stream",
     "text": [
      "Processed 2024-02-28.feather → 85411 seconds\n"
     ]
    },
    {
     "name": "stderr",
     "output_type": "stream",
     "text": [
      "/var/folders/nn/80hngvbx12l0bp84pd944rqw0000gn/T/ipykernel_26251/1128474090.py:15: FutureWarning: 'S' is deprecated and will be removed in a future version, please use 's' instead.\n",
      "  .resample('1S')\n"
     ]
    },
    {
     "name": "stdout",
     "output_type": "stream",
     "text": [
      "Processed 2024-02-29.feather → 86221 seconds\n"
     ]
    },
    {
     "name": "stderr",
     "output_type": "stream",
     "text": [
      "/var/folders/nn/80hngvbx12l0bp84pd944rqw0000gn/T/ipykernel_26251/1128474090.py:15: FutureWarning: 'S' is deprecated and will be removed in a future version, please use 's' instead.\n",
      "  .resample('1S')\n"
     ]
    },
    {
     "name": "stdout",
     "output_type": "stream",
     "text": [
      "Processed 2024-03-01.feather → 85467 seconds\n"
     ]
    },
    {
     "name": "stderr",
     "output_type": "stream",
     "text": [
      "/var/folders/nn/80hngvbx12l0bp84pd944rqw0000gn/T/ipykernel_26251/1128474090.py:15: FutureWarning: 'S' is deprecated and will be removed in a future version, please use 's' instead.\n",
      "  .resample('1S')\n"
     ]
    },
    {
     "name": "stdout",
     "output_type": "stream",
     "text": [
      "Processed 2024-03-02.feather → 84886 seconds\n"
     ]
    },
    {
     "name": "stderr",
     "output_type": "stream",
     "text": [
      "/var/folders/nn/80hngvbx12l0bp84pd944rqw0000gn/T/ipykernel_26251/1128474090.py:15: FutureWarning: 'S' is deprecated and will be removed in a future version, please use 's' instead.\n",
      "  .resample('1S')\n"
     ]
    },
    {
     "name": "stdout",
     "output_type": "stream",
     "text": [
      "Processed 2024-03-03.feather → 84849 seconds\n"
     ]
    },
    {
     "name": "stderr",
     "output_type": "stream",
     "text": [
      "/var/folders/nn/80hngvbx12l0bp84pd944rqw0000gn/T/ipykernel_26251/1128474090.py:15: FutureWarning: 'S' is deprecated and will be removed in a future version, please use 's' instead.\n",
      "  .resample('1S')\n"
     ]
    },
    {
     "name": "stdout",
     "output_type": "stream",
     "text": [
      "Processed 2024-03-04.feather → 86069 seconds\n"
     ]
    },
    {
     "name": "stderr",
     "output_type": "stream",
     "text": [
      "/var/folders/nn/80hngvbx12l0bp84pd944rqw0000gn/T/ipykernel_26251/1128474090.py:15: FutureWarning: 'S' is deprecated and will be removed in a future version, please use 's' instead.\n",
      "  .resample('1S')\n"
     ]
    },
    {
     "name": "stdout",
     "output_type": "stream",
     "text": [
      "Processed 2024-03-05.feather → 86338 seconds\n"
     ]
    },
    {
     "name": "stderr",
     "output_type": "stream",
     "text": [
      "/var/folders/nn/80hngvbx12l0bp84pd944rqw0000gn/T/ipykernel_26251/1128474090.py:15: FutureWarning: 'S' is deprecated and will be removed in a future version, please use 's' instead.\n",
      "  .resample('1S')\n"
     ]
    },
    {
     "name": "stdout",
     "output_type": "stream",
     "text": [
      "Processed 2024-03-06.feather → 86247 seconds\n"
     ]
    },
    {
     "name": "stderr",
     "output_type": "stream",
     "text": [
      "/var/folders/nn/80hngvbx12l0bp84pd944rqw0000gn/T/ipykernel_26251/1128474090.py:15: FutureWarning: 'S' is deprecated and will be removed in a future version, please use 's' instead.\n",
      "  .resample('1S')\n"
     ]
    },
    {
     "name": "stdout",
     "output_type": "stream",
     "text": [
      "Processed 2024-03-07.feather → 85821 seconds\n"
     ]
    },
    {
     "name": "stderr",
     "output_type": "stream",
     "text": [
      "/var/folders/nn/80hngvbx12l0bp84pd944rqw0000gn/T/ipykernel_26251/1128474090.py:15: FutureWarning: 'S' is deprecated and will be removed in a future version, please use 's' instead.\n",
      "  .resample('1S')\n"
     ]
    },
    {
     "name": "stdout",
     "output_type": "stream",
     "text": [
      "Processed 2024-03-08.feather → 85829 seconds\n"
     ]
    },
    {
     "name": "stderr",
     "output_type": "stream",
     "text": [
      "/var/folders/nn/80hngvbx12l0bp84pd944rqw0000gn/T/ipykernel_26251/1128474090.py:15: FutureWarning: 'S' is deprecated and will be removed in a future version, please use 's' instead.\n",
      "  .resample('1S')\n"
     ]
    },
    {
     "name": "stdout",
     "output_type": "stream",
     "text": [
      "Processed 2024-03-09.feather → 85550 seconds\n"
     ]
    },
    {
     "name": "stderr",
     "output_type": "stream",
     "text": [
      "/var/folders/nn/80hngvbx12l0bp84pd944rqw0000gn/T/ipykernel_26251/1128474090.py:15: FutureWarning: 'S' is deprecated and will be removed in a future version, please use 's' instead.\n",
      "  .resample('1S')\n"
     ]
    },
    {
     "name": "stdout",
     "output_type": "stream",
     "text": [
      "Processed 2024-03-10.feather → 85531 seconds\n"
     ]
    },
    {
     "name": "stderr",
     "output_type": "stream",
     "text": [
      "/var/folders/nn/80hngvbx12l0bp84pd944rqw0000gn/T/ipykernel_26251/1128474090.py:15: FutureWarning: 'S' is deprecated and will be removed in a future version, please use 's' instead.\n",
      "  .resample('1S')\n"
     ]
    },
    {
     "name": "stdout",
     "output_type": "stream",
     "text": [
      "Processed 2024-03-11.feather → 85870 seconds\n"
     ]
    },
    {
     "name": "stderr",
     "output_type": "stream",
     "text": [
      "/var/folders/nn/80hngvbx12l0bp84pd944rqw0000gn/T/ipykernel_26251/1128474090.py:15: FutureWarning: 'S' is deprecated and will be removed in a future version, please use 's' instead.\n",
      "  .resample('1S')\n"
     ]
    },
    {
     "name": "stdout",
     "output_type": "stream",
     "text": [
      "Processed 2024-03-12.feather → 86030 seconds\n"
     ]
    },
    {
     "name": "stderr",
     "output_type": "stream",
     "text": [
      "/var/folders/nn/80hngvbx12l0bp84pd944rqw0000gn/T/ipykernel_26251/1128474090.py:15: FutureWarning: 'S' is deprecated and will be removed in a future version, please use 's' instead.\n",
      "  .resample('1S')\n"
     ]
    },
    {
     "name": "stdout",
     "output_type": "stream",
     "text": [
      "Processed 2024-03-13.feather → 85939 seconds\n"
     ]
    },
    {
     "name": "stderr",
     "output_type": "stream",
     "text": [
      "/var/folders/nn/80hngvbx12l0bp84pd944rqw0000gn/T/ipykernel_26251/1128474090.py:15: FutureWarning: 'S' is deprecated and will be removed in a future version, please use 's' instead.\n",
      "  .resample('1S')\n"
     ]
    },
    {
     "name": "stdout",
     "output_type": "stream",
     "text": [
      "Processed 2024-03-14.feather → 86028 seconds\n"
     ]
    },
    {
     "name": "stderr",
     "output_type": "stream",
     "text": [
      "/var/folders/nn/80hngvbx12l0bp84pd944rqw0000gn/T/ipykernel_26251/1128474090.py:15: FutureWarning: 'S' is deprecated and will be removed in a future version, please use 's' instead.\n",
      "  .resample('1S')\n"
     ]
    },
    {
     "name": "stdout",
     "output_type": "stream",
     "text": [
      "Processed 2024-03-15.feather → 86188 seconds\n"
     ]
    },
    {
     "name": "stderr",
     "output_type": "stream",
     "text": [
      "/var/folders/nn/80hngvbx12l0bp84pd944rqw0000gn/T/ipykernel_26251/1128474090.py:15: FutureWarning: 'S' is deprecated and will be removed in a future version, please use 's' instead.\n",
      "  .resample('1S')\n"
     ]
    },
    {
     "name": "stdout",
     "output_type": "stream",
     "text": [
      "Processed 2024-03-16.feather → 85913 seconds\n"
     ]
    },
    {
     "name": "stderr",
     "output_type": "stream",
     "text": [
      "/var/folders/nn/80hngvbx12l0bp84pd944rqw0000gn/T/ipykernel_26251/1128474090.py:15: FutureWarning: 'S' is deprecated and will be removed in a future version, please use 's' instead.\n",
      "  .resample('1S')\n"
     ]
    },
    {
     "name": "stdout",
     "output_type": "stream",
     "text": [
      "Processed 2024-03-17.feather → 85798 seconds\n"
     ]
    },
    {
     "name": "stderr",
     "output_type": "stream",
     "text": [
      "/var/folders/nn/80hngvbx12l0bp84pd944rqw0000gn/T/ipykernel_26251/1128474090.py:15: FutureWarning: 'S' is deprecated and will be removed in a future version, please use 's' instead.\n",
      "  .resample('1S')\n"
     ]
    },
    {
     "name": "stdout",
     "output_type": "stream",
     "text": [
      "Processed 2024-03-18.feather → 85807 seconds\n"
     ]
    },
    {
     "name": "stderr",
     "output_type": "stream",
     "text": [
      "/var/folders/nn/80hngvbx12l0bp84pd944rqw0000gn/T/ipykernel_26251/1128474090.py:15: FutureWarning: 'S' is deprecated and will be removed in a future version, please use 's' instead.\n",
      "  .resample('1S')\n"
     ]
    },
    {
     "name": "stdout",
     "output_type": "stream",
     "text": [
      "Processed 2024-03-19.feather → 86239 seconds\n"
     ]
    },
    {
     "name": "stderr",
     "output_type": "stream",
     "text": [
      "/var/folders/nn/80hngvbx12l0bp84pd944rqw0000gn/T/ipykernel_26251/1128474090.py:15: FutureWarning: 'S' is deprecated and will be removed in a future version, please use 's' instead.\n",
      "  .resample('1S')\n"
     ]
    },
    {
     "name": "stdout",
     "output_type": "stream",
     "text": [
      "Processed 2024-03-20.feather → 86269 seconds\n"
     ]
    },
    {
     "name": "stderr",
     "output_type": "stream",
     "text": [
      "/var/folders/nn/80hngvbx12l0bp84pd944rqw0000gn/T/ipykernel_26251/1128474090.py:15: FutureWarning: 'S' is deprecated and will be removed in a future version, please use 's' instead.\n",
      "  .resample('1S')\n"
     ]
    },
    {
     "name": "stdout",
     "output_type": "stream",
     "text": [
      "Processed 2024-03-21.feather → 85622 seconds\n"
     ]
    },
    {
     "name": "stderr",
     "output_type": "stream",
     "text": [
      "/var/folders/nn/80hngvbx12l0bp84pd944rqw0000gn/T/ipykernel_26251/1128474090.py:15: FutureWarning: 'S' is deprecated and will be removed in a future version, please use 's' instead.\n",
      "  .resample('1S')\n"
     ]
    },
    {
     "name": "stdout",
     "output_type": "stream",
     "text": [
      "Processed 2024-03-22.feather → 85426 seconds\n"
     ]
    },
    {
     "name": "stderr",
     "output_type": "stream",
     "text": [
      "/var/folders/nn/80hngvbx12l0bp84pd944rqw0000gn/T/ipykernel_26251/1128474090.py:15: FutureWarning: 'S' is deprecated and will be removed in a future version, please use 's' instead.\n",
      "  .resample('1S')\n"
     ]
    },
    {
     "name": "stdout",
     "output_type": "stream",
     "text": [
      "Processed 2024-03-23.feather → 83860 seconds\n"
     ]
    },
    {
     "name": "stderr",
     "output_type": "stream",
     "text": [
      "/var/folders/nn/80hngvbx12l0bp84pd944rqw0000gn/T/ipykernel_26251/1128474090.py:15: FutureWarning: 'S' is deprecated and will be removed in a future version, please use 's' instead.\n",
      "  .resample('1S')\n"
     ]
    },
    {
     "name": "stdout",
     "output_type": "stream",
     "text": [
      "Processed 2024-03-24.feather → 83256 seconds\n"
     ]
    },
    {
     "name": "stderr",
     "output_type": "stream",
     "text": [
      "/var/folders/nn/80hngvbx12l0bp84pd944rqw0000gn/T/ipykernel_26251/1128474090.py:15: FutureWarning: 'S' is deprecated and will be removed in a future version, please use 's' instead.\n",
      "  .resample('1S')\n"
     ]
    },
    {
     "name": "stdout",
     "output_type": "stream",
     "text": [
      "Processed 2024-03-25.feather → 85169 seconds\n"
     ]
    },
    {
     "name": "stderr",
     "output_type": "stream",
     "text": [
      "/var/folders/nn/80hngvbx12l0bp84pd944rqw0000gn/T/ipykernel_26251/1128474090.py:15: FutureWarning: 'S' is deprecated and will be removed in a future version, please use 's' instead.\n",
      "  .resample('1S')\n"
     ]
    },
    {
     "name": "stdout",
     "output_type": "stream",
     "text": [
      "Processed 2024-03-26.feather → 85248 seconds\n"
     ]
    },
    {
     "name": "stderr",
     "output_type": "stream",
     "text": [
      "/var/folders/nn/80hngvbx12l0bp84pd944rqw0000gn/T/ipykernel_26251/1128474090.py:15: FutureWarning: 'S' is deprecated and will be removed in a future version, please use 's' instead.\n",
      "  .resample('1S')\n"
     ]
    },
    {
     "name": "stdout",
     "output_type": "stream",
     "text": [
      "Processed 2024-03-27.feather → 85033 seconds\n"
     ]
    },
    {
     "name": "stderr",
     "output_type": "stream",
     "text": [
      "/var/folders/nn/80hngvbx12l0bp84pd944rqw0000gn/T/ipykernel_26251/1128474090.py:15: FutureWarning: 'S' is deprecated and will be removed in a future version, please use 's' instead.\n",
      "  .resample('1S')\n"
     ]
    },
    {
     "name": "stdout",
     "output_type": "stream",
     "text": [
      "Processed 2024-03-28.feather → 85115 seconds\n"
     ]
    },
    {
     "name": "stderr",
     "output_type": "stream",
     "text": [
      "/var/folders/nn/80hngvbx12l0bp84pd944rqw0000gn/T/ipykernel_26251/1128474090.py:15: FutureWarning: 'S' is deprecated and will be removed in a future version, please use 's' instead.\n",
      "  .resample('1S')\n"
     ]
    },
    {
     "name": "stdout",
     "output_type": "stream",
     "text": [
      "Processed 2024-03-29.feather → 84650 seconds\n"
     ]
    },
    {
     "name": "stderr",
     "output_type": "stream",
     "text": [
      "/var/folders/nn/80hngvbx12l0bp84pd944rqw0000gn/T/ipykernel_26251/1128474090.py:15: FutureWarning: 'S' is deprecated and will be removed in a future version, please use 's' instead.\n",
      "  .resample('1S')\n"
     ]
    },
    {
     "name": "stdout",
     "output_type": "stream",
     "text": [
      "Processed 2024-03-30.feather → 84400 seconds\n"
     ]
    },
    {
     "name": "stderr",
     "output_type": "stream",
     "text": [
      "/var/folders/nn/80hngvbx12l0bp84pd944rqw0000gn/T/ipykernel_26251/1128474090.py:15: FutureWarning: 'S' is deprecated and will be removed in a future version, please use 's' instead.\n",
      "  .resample('1S')\n"
     ]
    },
    {
     "name": "stdout",
     "output_type": "stream",
     "text": [
      "Processed 2024-03-31.feather → 83010 seconds\n"
     ]
    },
    {
     "name": "stderr",
     "output_type": "stream",
     "text": [
      "/var/folders/nn/80hngvbx12l0bp84pd944rqw0000gn/T/ipykernel_26251/1128474090.py:15: FutureWarning: 'S' is deprecated and will be removed in a future version, please use 's' instead.\n",
      "  .resample('1S')\n"
     ]
    },
    {
     "name": "stdout",
     "output_type": "stream",
     "text": [
      "Processed 2024-04-01.feather → 84552 seconds\n"
     ]
    },
    {
     "name": "stderr",
     "output_type": "stream",
     "text": [
      "/var/folders/nn/80hngvbx12l0bp84pd944rqw0000gn/T/ipykernel_26251/1128474090.py:15: FutureWarning: 'S' is deprecated and will be removed in a future version, please use 's' instead.\n",
      "  .resample('1S')\n"
     ]
    },
    {
     "name": "stdout",
     "output_type": "stream",
     "text": [
      "Processed 2024-04-02.feather → 85684 seconds\n"
     ]
    },
    {
     "name": "stderr",
     "output_type": "stream",
     "text": [
      "/var/folders/nn/80hngvbx12l0bp84pd944rqw0000gn/T/ipykernel_26251/1128474090.py:15: FutureWarning: 'S' is deprecated and will be removed in a future version, please use 's' instead.\n",
      "  .resample('1S')\n"
     ]
    },
    {
     "name": "stdout",
     "output_type": "stream",
     "text": [
      "Processed 2024-04-03.feather → 85137 seconds\n"
     ]
    },
    {
     "name": "stderr",
     "output_type": "stream",
     "text": [
      "/var/folders/nn/80hngvbx12l0bp84pd944rqw0000gn/T/ipykernel_26251/1128474090.py:15: FutureWarning: 'S' is deprecated and will be removed in a future version, please use 's' instead.\n",
      "  .resample('1S')\n"
     ]
    },
    {
     "name": "stdout",
     "output_type": "stream",
     "text": [
      "Processed 2024-04-04.feather → 84592 seconds\n"
     ]
    },
    {
     "name": "stderr",
     "output_type": "stream",
     "text": [
      "/var/folders/nn/80hngvbx12l0bp84pd944rqw0000gn/T/ipykernel_26251/1128474090.py:15: FutureWarning: 'S' is deprecated and will be removed in a future version, please use 's' instead.\n",
      "  .resample('1S')\n"
     ]
    },
    {
     "name": "stdout",
     "output_type": "stream",
     "text": [
      "Processed 2024-04-05.feather → 84767 seconds\n"
     ]
    },
    {
     "name": "stderr",
     "output_type": "stream",
     "text": [
      "/var/folders/nn/80hngvbx12l0bp84pd944rqw0000gn/T/ipykernel_26251/1128474090.py:15: FutureWarning: 'S' is deprecated and will be removed in a future version, please use 's' instead.\n",
      "  .resample('1S')\n"
     ]
    },
    {
     "name": "stdout",
     "output_type": "stream",
     "text": [
      "Processed 2024-04-06.feather → 82740 seconds\n"
     ]
    },
    {
     "name": "stderr",
     "output_type": "stream",
     "text": [
      "/var/folders/nn/80hngvbx12l0bp84pd944rqw0000gn/T/ipykernel_26251/1128474090.py:15: FutureWarning: 'S' is deprecated and will be removed in a future version, please use 's' instead.\n",
      "  .resample('1S')\n"
     ]
    },
    {
     "name": "stdout",
     "output_type": "stream",
     "text": [
      "Processed 2024-04-07.feather → 83118 seconds\n"
     ]
    },
    {
     "name": "stderr",
     "output_type": "stream",
     "text": [
      "/var/folders/nn/80hngvbx12l0bp84pd944rqw0000gn/T/ipykernel_26251/1128474090.py:15: FutureWarning: 'S' is deprecated and will be removed in a future version, please use 's' instead.\n",
      "  .resample('1S')\n"
     ]
    },
    {
     "name": "stdout",
     "output_type": "stream",
     "text": [
      "Processed 2024-04-08.feather → 84400 seconds\n"
     ]
    },
    {
     "name": "stderr",
     "output_type": "stream",
     "text": [
      "/var/folders/nn/80hngvbx12l0bp84pd944rqw0000gn/T/ipykernel_26251/1128474090.py:15: FutureWarning: 'S' is deprecated and will be removed in a future version, please use 's' instead.\n",
      "  .resample('1S')\n"
     ]
    },
    {
     "name": "stdout",
     "output_type": "stream",
     "text": [
      "Processed 2024-04-09.feather → 84922 seconds\n"
     ]
    },
    {
     "name": "stderr",
     "output_type": "stream",
     "text": [
      "/var/folders/nn/80hngvbx12l0bp84pd944rqw0000gn/T/ipykernel_26251/1128474090.py:15: FutureWarning: 'S' is deprecated and will be removed in a future version, please use 's' instead.\n",
      "  .resample('1S')\n"
     ]
    },
    {
     "name": "stdout",
     "output_type": "stream",
     "text": [
      "Processed 2024-04-10.feather → 84260 seconds\n"
     ]
    },
    {
     "name": "stderr",
     "output_type": "stream",
     "text": [
      "/var/folders/nn/80hngvbx12l0bp84pd944rqw0000gn/T/ipykernel_26251/1128474090.py:15: FutureWarning: 'S' is deprecated and will be removed in a future version, please use 's' instead.\n",
      "  .resample('1S')\n"
     ]
    },
    {
     "name": "stdout",
     "output_type": "stream",
     "text": [
      "Processed 2024-04-11.feather → 84616 seconds\n"
     ]
    },
    {
     "name": "stderr",
     "output_type": "stream",
     "text": [
      "/var/folders/nn/80hngvbx12l0bp84pd944rqw0000gn/T/ipykernel_26251/1128474090.py:15: FutureWarning: 'S' is deprecated and will be removed in a future version, please use 's' instead.\n",
      "  .resample('1S')\n"
     ]
    },
    {
     "name": "stdout",
     "output_type": "stream",
     "text": [
      "Processed 2024-04-12.feather → 84354 seconds\n"
     ]
    },
    {
     "name": "stderr",
     "output_type": "stream",
     "text": [
      "/var/folders/nn/80hngvbx12l0bp84pd944rqw0000gn/T/ipykernel_26251/1128474090.py:15: FutureWarning: 'S' is deprecated and will be removed in a future version, please use 's' instead.\n",
      "  .resample('1S')\n"
     ]
    },
    {
     "name": "stdout",
     "output_type": "stream",
     "text": [
      "Processed 2024-04-13.feather → 85687 seconds\n"
     ]
    },
    {
     "name": "stderr",
     "output_type": "stream",
     "text": [
      "/var/folders/nn/80hngvbx12l0bp84pd944rqw0000gn/T/ipykernel_26251/1128474090.py:15: FutureWarning: 'S' is deprecated and will be removed in a future version, please use 's' instead.\n",
      "  .resample('1S')\n"
     ]
    },
    {
     "name": "stdout",
     "output_type": "stream",
     "text": [
      "Processed 2024-04-14.feather → 85517 seconds\n"
     ]
    },
    {
     "name": "stderr",
     "output_type": "stream",
     "text": [
      "/var/folders/nn/80hngvbx12l0bp84pd944rqw0000gn/T/ipykernel_26251/1128474090.py:15: FutureWarning: 'S' is deprecated and will be removed in a future version, please use 's' instead.\n",
      "  .resample('1S')\n"
     ]
    },
    {
     "name": "stdout",
     "output_type": "stream",
     "text": [
      "Processed 2024-04-15.feather → 85044 seconds\n"
     ]
    },
    {
     "name": "stderr",
     "output_type": "stream",
     "text": [
      "/var/folders/nn/80hngvbx12l0bp84pd944rqw0000gn/T/ipykernel_26251/1128474090.py:15: FutureWarning: 'S' is deprecated and will be removed in a future version, please use 's' instead.\n",
      "  .resample('1S')\n"
     ]
    },
    {
     "name": "stdout",
     "output_type": "stream",
     "text": [
      "Processed 2024-04-16.feather → 84618 seconds\n"
     ]
    },
    {
     "name": "stderr",
     "output_type": "stream",
     "text": [
      "/var/folders/nn/80hngvbx12l0bp84pd944rqw0000gn/T/ipykernel_26251/1128474090.py:15: FutureWarning: 'S' is deprecated and will be removed in a future version, please use 's' instead.\n",
      "  .resample('1S')\n"
     ]
    },
    {
     "name": "stdout",
     "output_type": "stream",
     "text": [
      "Processed 2024-04-17.feather → 83831 seconds\n"
     ]
    },
    {
     "name": "stderr",
     "output_type": "stream",
     "text": [
      "/var/folders/nn/80hngvbx12l0bp84pd944rqw0000gn/T/ipykernel_26251/1128474090.py:15: FutureWarning: 'S' is deprecated and will be removed in a future version, please use 's' instead.\n",
      "  .resample('1S')\n"
     ]
    },
    {
     "name": "stdout",
     "output_type": "stream",
     "text": [
      "Processed 2024-04-18.feather → 84122 seconds\n"
     ]
    },
    {
     "name": "stderr",
     "output_type": "stream",
     "text": [
      "/var/folders/nn/80hngvbx12l0bp84pd944rqw0000gn/T/ipykernel_26251/1128474090.py:15: FutureWarning: 'S' is deprecated and will be removed in a future version, please use 's' instead.\n",
      "  .resample('1S')\n"
     ]
    },
    {
     "name": "stdout",
     "output_type": "stream",
     "text": [
      "Processed 2024-04-19.feather → 85089 seconds\n"
     ]
    },
    {
     "name": "stderr",
     "output_type": "stream",
     "text": [
      "/var/folders/nn/80hngvbx12l0bp84pd944rqw0000gn/T/ipykernel_26251/1128474090.py:15: FutureWarning: 'S' is deprecated and will be removed in a future version, please use 's' instead.\n",
      "  .resample('1S')\n"
     ]
    },
    {
     "name": "stdout",
     "output_type": "stream",
     "text": [
      "Processed 2024-04-20.feather → 81452 seconds\n"
     ]
    },
    {
     "name": "stderr",
     "output_type": "stream",
     "text": [
      "/var/folders/nn/80hngvbx12l0bp84pd944rqw0000gn/T/ipykernel_26251/1128474090.py:15: FutureWarning: 'S' is deprecated and will be removed in a future version, please use 's' instead.\n",
      "  .resample('1S')\n"
     ]
    },
    {
     "name": "stdout",
     "output_type": "stream",
     "text": [
      "Processed 2024-04-21.feather → 79947 seconds\n"
     ]
    },
    {
     "name": "stderr",
     "output_type": "stream",
     "text": [
      "/var/folders/nn/80hngvbx12l0bp84pd944rqw0000gn/T/ipykernel_26251/1128474090.py:15: FutureWarning: 'S' is deprecated and will be removed in a future version, please use 's' instead.\n",
      "  .resample('1S')\n"
     ]
    },
    {
     "name": "stdout",
     "output_type": "stream",
     "text": [
      "Processed 2024-04-22.feather → 83035 seconds\n"
     ]
    },
    {
     "name": "stderr",
     "output_type": "stream",
     "text": [
      "/var/folders/nn/80hngvbx12l0bp84pd944rqw0000gn/T/ipykernel_26251/1128474090.py:15: FutureWarning: 'S' is deprecated and will be removed in a future version, please use 's' instead.\n",
      "  .resample('1S')\n"
     ]
    },
    {
     "name": "stdout",
     "output_type": "stream",
     "text": [
      "Processed 2024-04-23.feather → 81702 seconds\n"
     ]
    },
    {
     "name": "stderr",
     "output_type": "stream",
     "text": [
      "/var/folders/nn/80hngvbx12l0bp84pd944rqw0000gn/T/ipykernel_26251/1128474090.py:15: FutureWarning: 'S' is deprecated and will be removed in a future version, please use 's' instead.\n",
      "  .resample('1S')\n"
     ]
    },
    {
     "name": "stdout",
     "output_type": "stream",
     "text": [
      "Processed 2024-04-24.feather → 82878 seconds\n"
     ]
    },
    {
     "name": "stderr",
     "output_type": "stream",
     "text": [
      "/var/folders/nn/80hngvbx12l0bp84pd944rqw0000gn/T/ipykernel_26251/1128474090.py:15: FutureWarning: 'S' is deprecated and will be removed in a future version, please use 's' instead.\n",
      "  .resample('1S')\n",
      "/var/folders/nn/80hngvbx12l0bp84pd944rqw0000gn/T/ipykernel_26251/1128474090.py:15: FutureWarning: 'S' is deprecated and will be removed in a future version, please use 's' instead.\n",
      "  .resample('1S')\n"
     ]
    },
    {
     "name": "stdout",
     "output_type": "stream",
     "text": [
      "Processed 2024-04-25.feather → 82897 seconds\n",
      "Processed 2024-04-26.feather → 80788 seconds\n"
     ]
    },
    {
     "name": "stderr",
     "output_type": "stream",
     "text": [
      "/var/folders/nn/80hngvbx12l0bp84pd944rqw0000gn/T/ipykernel_26251/1128474090.py:15: FutureWarning: 'S' is deprecated and will be removed in a future version, please use 's' instead.\n",
      "  .resample('1S')\n",
      "/var/folders/nn/80hngvbx12l0bp84pd944rqw0000gn/T/ipykernel_26251/1128474090.py:15: FutureWarning: 'S' is deprecated and will be removed in a future version, please use 's' instead.\n",
      "  .resample('1S')\n"
     ]
    },
    {
     "name": "stdout",
     "output_type": "stream",
     "text": [
      "Processed 2024-04-27.feather → 79891 seconds\n",
      "Processed 2024-04-28.feather → 77744 seconds\n"
     ]
    },
    {
     "name": "stderr",
     "output_type": "stream",
     "text": [
      "/var/folders/nn/80hngvbx12l0bp84pd944rqw0000gn/T/ipykernel_26251/1128474090.py:15: FutureWarning: 'S' is deprecated and will be removed in a future version, please use 's' instead.\n",
      "  .resample('1S')\n"
     ]
    },
    {
     "name": "stdout",
     "output_type": "stream",
     "text": [
      "Processed 2024-04-29.feather → 81021 seconds\n"
     ]
    },
    {
     "name": "stderr",
     "output_type": "stream",
     "text": [
      "/var/folders/nn/80hngvbx12l0bp84pd944rqw0000gn/T/ipykernel_26251/1128474090.py:15: FutureWarning: 'S' is deprecated and will be removed in a future version, please use 's' instead.\n",
      "  .resample('1S')\n"
     ]
    },
    {
     "name": "stdout",
     "output_type": "stream",
     "text": [
      "Processed 2024-04-30.feather → 83460 seconds\n"
     ]
    },
    {
     "name": "stderr",
     "output_type": "stream",
     "text": [
      "/var/folders/nn/80hngvbx12l0bp84pd944rqw0000gn/T/ipykernel_26251/1128474090.py:15: FutureWarning: 'S' is deprecated and will be removed in a future version, please use 's' instead.\n",
      "  .resample('1S')\n"
     ]
    },
    {
     "name": "stdout",
     "output_type": "stream",
     "text": [
      "Processed 2024-05-01.feather → 84427 seconds\n"
     ]
    },
    {
     "name": "stderr",
     "output_type": "stream",
     "text": [
      "/var/folders/nn/80hngvbx12l0bp84pd944rqw0000gn/T/ipykernel_26251/1128474090.py:15: FutureWarning: 'S' is deprecated and will be removed in a future version, please use 's' instead.\n",
      "  .resample('1S')\n"
     ]
    },
    {
     "name": "stdout",
     "output_type": "stream",
     "text": [
      "Processed 2024-05-02.feather → 82807 seconds\n"
     ]
    },
    {
     "name": "stderr",
     "output_type": "stream",
     "text": [
      "/var/folders/nn/80hngvbx12l0bp84pd944rqw0000gn/T/ipykernel_26251/1128474090.py:15: FutureWarning: 'S' is deprecated and will be removed in a future version, please use 's' instead.\n",
      "  .resample('1S')\n"
     ]
    },
    {
     "name": "stdout",
     "output_type": "stream",
     "text": [
      "Processed 2024-05-03.feather → 82878 seconds\n"
     ]
    },
    {
     "name": "stderr",
     "output_type": "stream",
     "text": [
      "/var/folders/nn/80hngvbx12l0bp84pd944rqw0000gn/T/ipykernel_26251/1128474090.py:15: FutureWarning: 'S' is deprecated and will be removed in a future version, please use 's' instead.\n",
      "  .resample('1S')\n",
      "/var/folders/nn/80hngvbx12l0bp84pd944rqw0000gn/T/ipykernel_26251/1128474090.py:15: FutureWarning: 'S' is deprecated and will be removed in a future version, please use 's' instead.\n",
      "  .resample('1S')\n"
     ]
    },
    {
     "name": "stdout",
     "output_type": "stream",
     "text": [
      "Processed 2024-05-04.feather → 80188 seconds\n",
      "Processed 2024-05-05.feather → 78154 seconds\n"
     ]
    },
    {
     "name": "stderr",
     "output_type": "stream",
     "text": [
      "/var/folders/nn/80hngvbx12l0bp84pd944rqw0000gn/T/ipykernel_26251/1128474090.py:15: FutureWarning: 'S' is deprecated and will be removed in a future version, please use 's' instead.\n",
      "  .resample('1S')\n"
     ]
    },
    {
     "name": "stdout",
     "output_type": "stream",
     "text": [
      "Processed 2024-05-06.feather → 81735 seconds\n"
     ]
    },
    {
     "name": "stderr",
     "output_type": "stream",
     "text": [
      "/var/folders/nn/80hngvbx12l0bp84pd944rqw0000gn/T/ipykernel_26251/1128474090.py:15: FutureWarning: 'S' is deprecated and will be removed in a future version, please use 's' instead.\n",
      "  .resample('1S')\n"
     ]
    },
    {
     "name": "stdout",
     "output_type": "stream",
     "text": [
      "Processed 2024-05-07.feather → 80158 seconds\n"
     ]
    },
    {
     "name": "stderr",
     "output_type": "stream",
     "text": [
      "/var/folders/nn/80hngvbx12l0bp84pd944rqw0000gn/T/ipykernel_26251/1128474090.py:15: FutureWarning: 'S' is deprecated and will be removed in a future version, please use 's' instead.\n",
      "  .resample('1S')\n"
     ]
    },
    {
     "name": "stdout",
     "output_type": "stream",
     "text": [
      "Processed 2024-05-08.feather → 81734 seconds\n"
     ]
    },
    {
     "name": "stderr",
     "output_type": "stream",
     "text": [
      "/var/folders/nn/80hngvbx12l0bp84pd944rqw0000gn/T/ipykernel_26251/1128474090.py:15: FutureWarning: 'S' is deprecated and will be removed in a future version, please use 's' instead.\n",
      "  .resample('1S')\n"
     ]
    },
    {
     "name": "stdout",
     "output_type": "stream",
     "text": [
      "Processed 2024-05-09.feather → 82058 seconds\n"
     ]
    },
    {
     "name": "stderr",
     "output_type": "stream",
     "text": [
      "/var/folders/nn/80hngvbx12l0bp84pd944rqw0000gn/T/ipykernel_26251/1128474090.py:15: FutureWarning: 'S' is deprecated and will be removed in a future version, please use 's' instead.\n",
      "  .resample('1S')\n",
      "/var/folders/nn/80hngvbx12l0bp84pd944rqw0000gn/T/ipykernel_26251/1128474090.py:15: FutureWarning: 'S' is deprecated and will be removed in a future version, please use 's' instead.\n",
      "  .resample('1S')\n"
     ]
    },
    {
     "name": "stdout",
     "output_type": "stream",
     "text": [
      "Processed 2024-05-10.feather → 82096 seconds\n",
      "Processed 2024-05-11.feather → 79602 seconds\n"
     ]
    },
    {
     "name": "stderr",
     "output_type": "stream",
     "text": [
      "/var/folders/nn/80hngvbx12l0bp84pd944rqw0000gn/T/ipykernel_26251/1128474090.py:15: FutureWarning: 'S' is deprecated and will be removed in a future version, please use 's' instead.\n",
      "  .resample('1S')\n"
     ]
    },
    {
     "name": "stdout",
     "output_type": "stream",
     "text": [
      "Processed 2024-05-12.feather → 76793 seconds\n"
     ]
    },
    {
     "name": "stderr",
     "output_type": "stream",
     "text": [
      "/var/folders/nn/80hngvbx12l0bp84pd944rqw0000gn/T/ipykernel_26251/1128474090.py:15: FutureWarning: 'S' is deprecated and will be removed in a future version, please use 's' instead.\n",
      "  .resample('1S')\n"
     ]
    },
    {
     "name": "stdout",
     "output_type": "stream",
     "text": [
      "Processed 2024-05-13.feather → 81492 seconds\n"
     ]
    },
    {
     "name": "stderr",
     "output_type": "stream",
     "text": [
      "/var/folders/nn/80hngvbx12l0bp84pd944rqw0000gn/T/ipykernel_26251/1128474090.py:15: FutureWarning: 'S' is deprecated and will be removed in a future version, please use 's' instead.\n",
      "  .resample('1S')\n"
     ]
    },
    {
     "name": "stdout",
     "output_type": "stream",
     "text": [
      "Processed 2024-05-14.feather → 81326 seconds\n"
     ]
    },
    {
     "name": "stderr",
     "output_type": "stream",
     "text": [
      "/var/folders/nn/80hngvbx12l0bp84pd944rqw0000gn/T/ipykernel_26251/1128474090.py:15: FutureWarning: 'S' is deprecated and will be removed in a future version, please use 's' instead.\n",
      "  .resample('1S')\n"
     ]
    },
    {
     "name": "stdout",
     "output_type": "stream",
     "text": [
      "Processed 2024-05-15.feather → 81776 seconds\n"
     ]
    },
    {
     "name": "stderr",
     "output_type": "stream",
     "text": [
      "/var/folders/nn/80hngvbx12l0bp84pd944rqw0000gn/T/ipykernel_26251/1128474090.py:15: FutureWarning: 'S' is deprecated and will be removed in a future version, please use 's' instead.\n",
      "  .resample('1S')\n"
     ]
    },
    {
     "name": "stdout",
     "output_type": "stream",
     "text": [
      "Processed 2024-05-16.feather → 83062 seconds\n"
     ]
    },
    {
     "name": "stderr",
     "output_type": "stream",
     "text": [
      "/var/folders/nn/80hngvbx12l0bp84pd944rqw0000gn/T/ipykernel_26251/1128474090.py:15: FutureWarning: 'S' is deprecated and will be removed in a future version, please use 's' instead.\n",
      "  .resample('1S')\n",
      "/var/folders/nn/80hngvbx12l0bp84pd944rqw0000gn/T/ipykernel_26251/1128474090.py:15: FutureWarning: 'S' is deprecated and will be removed in a future version, please use 's' instead.\n",
      "  .resample('1S')\n"
     ]
    },
    {
     "name": "stdout",
     "output_type": "stream",
     "text": [
      "Processed 2024-05-17.feather → 81084 seconds\n",
      "Processed 2024-05-18.feather → 78990 seconds\n"
     ]
    },
    {
     "name": "stderr",
     "output_type": "stream",
     "text": [
      "/var/folders/nn/80hngvbx12l0bp84pd944rqw0000gn/T/ipykernel_26251/1128474090.py:15: FutureWarning: 'S' is deprecated and will be removed in a future version, please use 's' instead.\n",
      "  .resample('1S')\n"
     ]
    },
    {
     "name": "stdout",
     "output_type": "stream",
     "text": [
      "Processed 2024-05-19.feather → 77139 seconds\n"
     ]
    },
    {
     "name": "stderr",
     "output_type": "stream",
     "text": [
      "/var/folders/nn/80hngvbx12l0bp84pd944rqw0000gn/T/ipykernel_26251/1128474090.py:15: FutureWarning: 'S' is deprecated and will be removed in a future version, please use 's' instead.\n",
      "  .resample('1S')\n"
     ]
    },
    {
     "name": "stdout",
     "output_type": "stream",
     "text": [
      "Processed 2024-05-20.feather → 81522 seconds\n"
     ]
    },
    {
     "name": "stderr",
     "output_type": "stream",
     "text": [
      "/var/folders/nn/80hngvbx12l0bp84pd944rqw0000gn/T/ipykernel_26251/1128474090.py:15: FutureWarning: 'S' is deprecated and will be removed in a future version, please use 's' instead.\n",
      "  .resample('1S')\n"
     ]
    },
    {
     "name": "stdout",
     "output_type": "stream",
     "text": [
      "Processed 2024-05-21.feather → 85154 seconds\n"
     ]
    },
    {
     "name": "stderr",
     "output_type": "stream",
     "text": [
      "/var/folders/nn/80hngvbx12l0bp84pd944rqw0000gn/T/ipykernel_26251/1128474090.py:15: FutureWarning: 'S' is deprecated and will be removed in a future version, please use 's' instead.\n",
      "  .resample('1S')\n"
     ]
    },
    {
     "name": "stdout",
     "output_type": "stream",
     "text": [
      "Processed 2024-05-22.feather → 82342 seconds\n"
     ]
    },
    {
     "name": "stderr",
     "output_type": "stream",
     "text": [
      "/var/folders/nn/80hngvbx12l0bp84pd944rqw0000gn/T/ipykernel_26251/1128474090.py:15: FutureWarning: 'S' is deprecated and will be removed in a future version, please use 's' instead.\n",
      "  .resample('1S')\n"
     ]
    },
    {
     "name": "stdout",
     "output_type": "stream",
     "text": [
      "Processed 2024-05-23.feather → 83196 seconds\n"
     ]
    },
    {
     "name": "stderr",
     "output_type": "stream",
     "text": [
      "/var/folders/nn/80hngvbx12l0bp84pd944rqw0000gn/T/ipykernel_26251/1128474090.py:15: FutureWarning: 'S' is deprecated and will be removed in a future version, please use 's' instead.\n",
      "  .resample('1S')\n",
      "/var/folders/nn/80hngvbx12l0bp84pd944rqw0000gn/T/ipykernel_26251/1128474090.py:15: FutureWarning: 'S' is deprecated and will be removed in a future version, please use 's' instead.\n",
      "  .resample('1S')\n"
     ]
    },
    {
     "name": "stdout",
     "output_type": "stream",
     "text": [
      "Processed 2024-05-24.feather → 81968 seconds\n",
      "Processed 2024-05-25.feather → 79670 seconds\n"
     ]
    },
    {
     "name": "stderr",
     "output_type": "stream",
     "text": [
      "/var/folders/nn/80hngvbx12l0bp84pd944rqw0000gn/T/ipykernel_26251/1128474090.py:15: FutureWarning: 'S' is deprecated and will be removed in a future version, please use 's' instead.\n",
      "  .resample('1S')\n",
      "/var/folders/nn/80hngvbx12l0bp84pd944rqw0000gn/T/ipykernel_26251/1128474090.py:15: FutureWarning: 'S' is deprecated and will be removed in a future version, please use 's' instead.\n",
      "  .resample('1S')\n"
     ]
    },
    {
     "name": "stdout",
     "output_type": "stream",
     "text": [
      "Processed 2024-05-26.feather → 77448 seconds\n",
      "Processed 2024-05-27.feather → 80871 seconds\n"
     ]
    },
    {
     "name": "stderr",
     "output_type": "stream",
     "text": [
      "/var/folders/nn/80hngvbx12l0bp84pd944rqw0000gn/T/ipykernel_26251/1128474090.py:15: FutureWarning: 'S' is deprecated and will be removed in a future version, please use 's' instead.\n",
      "  .resample('1S')\n"
     ]
    },
    {
     "name": "stdout",
     "output_type": "stream",
     "text": [
      "Processed 2024-05-28.feather → 81949 seconds\n"
     ]
    },
    {
     "name": "stderr",
     "output_type": "stream",
     "text": [
      "/var/folders/nn/80hngvbx12l0bp84pd944rqw0000gn/T/ipykernel_26251/1128474090.py:15: FutureWarning: 'S' is deprecated and will be removed in a future version, please use 's' instead.\n",
      "  .resample('1S')\n"
     ]
    },
    {
     "name": "stdout",
     "output_type": "stream",
     "text": [
      "Processed 2024-05-29.feather → 80428 seconds\n"
     ]
    },
    {
     "name": "stderr",
     "output_type": "stream",
     "text": [
      "/var/folders/nn/80hngvbx12l0bp84pd944rqw0000gn/T/ipykernel_26251/1128474090.py:15: FutureWarning: 'S' is deprecated and will be removed in a future version, please use 's' instead.\n",
      "  .resample('1S')\n"
     ]
    },
    {
     "name": "stdout",
     "output_type": "stream",
     "text": [
      "Processed 2024-05-30.feather → 81009 seconds\n"
     ]
    },
    {
     "name": "stderr",
     "output_type": "stream",
     "text": [
      "/var/folders/nn/80hngvbx12l0bp84pd944rqw0000gn/T/ipykernel_26251/1128474090.py:15: FutureWarning: 'S' is deprecated and will be removed in a future version, please use 's' instead.\n",
      "  .resample('1S')\n",
      "/var/folders/nn/80hngvbx12l0bp84pd944rqw0000gn/T/ipykernel_26251/1128474090.py:15: FutureWarning: 'S' is deprecated and will be removed in a future version, please use 's' instead.\n",
      "  .resample('1S')\n"
     ]
    },
    {
     "name": "stdout",
     "output_type": "stream",
     "text": [
      "Processed 2024-05-31.feather → 80738 seconds\n",
      "Processed 2024-06-01.feather → 77626 seconds\n"
     ]
    },
    {
     "name": "stderr",
     "output_type": "stream",
     "text": [
      "/var/folders/nn/80hngvbx12l0bp84pd944rqw0000gn/T/ipykernel_26251/1128474090.py:15: FutureWarning: 'S' is deprecated and will be removed in a future version, please use 's' instead.\n",
      "  .resample('1S')\n"
     ]
    },
    {
     "name": "stdout",
     "output_type": "stream",
     "text": [
      "Processed 2024-06-02.feather → 77710 seconds\n"
     ]
    },
    {
     "name": "stderr",
     "output_type": "stream",
     "text": [
      "/var/folders/nn/80hngvbx12l0bp84pd944rqw0000gn/T/ipykernel_26251/1128474090.py:15: FutureWarning: 'S' is deprecated and will be removed in a future version, please use 's' instead.\n",
      "  .resample('1S')\n"
     ]
    },
    {
     "name": "stdout",
     "output_type": "stream",
     "text": [
      "Processed 2024-06-03.feather → 82595 seconds\n"
     ]
    },
    {
     "name": "stderr",
     "output_type": "stream",
     "text": [
      "/var/folders/nn/80hngvbx12l0bp84pd944rqw0000gn/T/ipykernel_26251/1128474090.py:15: FutureWarning: 'S' is deprecated and will be removed in a future version, please use 's' instead.\n",
      "  .resample('1S')\n"
     ]
    },
    {
     "name": "stdout",
     "output_type": "stream",
     "text": [
      "Processed 2024-06-04.feather → 82170 seconds\n"
     ]
    },
    {
     "name": "stderr",
     "output_type": "stream",
     "text": [
      "/var/folders/nn/80hngvbx12l0bp84pd944rqw0000gn/T/ipykernel_26251/1128474090.py:15: FutureWarning: 'S' is deprecated and will be removed in a future version, please use 's' instead.\n",
      "  .resample('1S')\n",
      "/var/folders/nn/80hngvbx12l0bp84pd944rqw0000gn/T/ipykernel_26251/1128474090.py:15: FutureWarning: 'S' is deprecated and will be removed in a future version, please use 's' instead.\n",
      "  .resample('1S')\n"
     ]
    },
    {
     "name": "stdout",
     "output_type": "stream",
     "text": [
      "Processed 2024-06-05.feather → 83600 seconds\n",
      "Processed 2024-06-06.feather → 81454 seconds\n"
     ]
    },
    {
     "name": "stderr",
     "output_type": "stream",
     "text": [
      "/var/folders/nn/80hngvbx12l0bp84pd944rqw0000gn/T/ipykernel_26251/1128474090.py:15: FutureWarning: 'S' is deprecated and will be removed in a future version, please use 's' instead.\n",
      "  .resample('1S')\n",
      "/var/folders/nn/80hngvbx12l0bp84pd944rqw0000gn/T/ipykernel_26251/1128474090.py:15: FutureWarning: 'S' is deprecated and will be removed in a future version, please use 's' instead.\n",
      "  .resample('1S')\n"
     ]
    },
    {
     "name": "stdout",
     "output_type": "stream",
     "text": [
      "Processed 2024-06-07.feather → 82801 seconds\n",
      "Processed 2024-06-08.feather → 81547 seconds\n"
     ]
    },
    {
     "name": "stderr",
     "output_type": "stream",
     "text": [
      "/var/folders/nn/80hngvbx12l0bp84pd944rqw0000gn/T/ipykernel_26251/1128474090.py:15: FutureWarning: 'S' is deprecated and will be removed in a future version, please use 's' instead.\n",
      "  .resample('1S')\n",
      "/var/folders/nn/80hngvbx12l0bp84pd944rqw0000gn/T/ipykernel_26251/1128474090.py:15: FutureWarning: 'S' is deprecated and will be removed in a future version, please use 's' instead.\n",
      "  .resample('1S')\n"
     ]
    },
    {
     "name": "stdout",
     "output_type": "stream",
     "text": [
      "Processed 2024-06-09.feather → 78553 seconds\n",
      "Processed 2024-06-10.feather → 81329 seconds\n"
     ]
    },
    {
     "name": "stderr",
     "output_type": "stream",
     "text": [
      "/var/folders/nn/80hngvbx12l0bp84pd944rqw0000gn/T/ipykernel_26251/1128474090.py:15: FutureWarning: 'S' is deprecated and will be removed in a future version, please use 's' instead.\n",
      "  .resample('1S')\n"
     ]
    },
    {
     "name": "stdout",
     "output_type": "stream",
     "text": [
      "Processed 2024-06-11.feather → 84154 seconds\n"
     ]
    },
    {
     "name": "stderr",
     "output_type": "stream",
     "text": [
      "/var/folders/nn/80hngvbx12l0bp84pd944rqw0000gn/T/ipykernel_26251/1128474090.py:15: FutureWarning: 'S' is deprecated and will be removed in a future version, please use 's' instead.\n",
      "  .resample('1S')\n"
     ]
    },
    {
     "name": "stdout",
     "output_type": "stream",
     "text": [
      "Processed 2024-06-12.feather → 82679 seconds\n"
     ]
    },
    {
     "name": "stderr",
     "output_type": "stream",
     "text": [
      "/var/folders/nn/80hngvbx12l0bp84pd944rqw0000gn/T/ipykernel_26251/1128474090.py:15: FutureWarning: 'S' is deprecated and will be removed in a future version, please use 's' instead.\n",
      "  .resample('1S')\n"
     ]
    },
    {
     "name": "stdout",
     "output_type": "stream",
     "text": [
      "Processed 2024-06-13.feather → 81774 seconds\n"
     ]
    },
    {
     "name": "stderr",
     "output_type": "stream",
     "text": [
      "/var/folders/nn/80hngvbx12l0bp84pd944rqw0000gn/T/ipykernel_26251/1128474090.py:15: FutureWarning: 'S' is deprecated and will be removed in a future version, please use 's' instead.\n",
      "  .resample('1S')\n",
      "/var/folders/nn/80hngvbx12l0bp84pd944rqw0000gn/T/ipykernel_26251/1128474090.py:15: FutureWarning: 'S' is deprecated and will be removed in a future version, please use 's' instead.\n",
      "  .resample('1S')\n"
     ]
    },
    {
     "name": "stdout",
     "output_type": "stream",
     "text": [
      "Processed 2024-06-14.feather → 81926 seconds\n",
      "Processed 2024-06-15.feather → 78788 seconds\n"
     ]
    },
    {
     "name": "stderr",
     "output_type": "stream",
     "text": [
      "/var/folders/nn/80hngvbx12l0bp84pd944rqw0000gn/T/ipykernel_26251/1128474090.py:15: FutureWarning: 'S' is deprecated and will be removed in a future version, please use 's' instead.\n",
      "  .resample('1S')\n"
     ]
    },
    {
     "name": "stdout",
     "output_type": "stream",
     "text": [
      "Processed 2024-06-16.feather → 77643 seconds\n"
     ]
    },
    {
     "name": "stderr",
     "output_type": "stream",
     "text": [
      "/var/folders/nn/80hngvbx12l0bp84pd944rqw0000gn/T/ipykernel_26251/1128474090.py:15: FutureWarning: 'S' is deprecated and will be removed in a future version, please use 's' instead.\n",
      "  .resample('1S')\n"
     ]
    },
    {
     "name": "stdout",
     "output_type": "stream",
     "text": [
      "Processed 2024-06-17.feather → 81147 seconds\n"
     ]
    },
    {
     "name": "stderr",
     "output_type": "stream",
     "text": [
      "/var/folders/nn/80hngvbx12l0bp84pd944rqw0000gn/T/ipykernel_26251/1128474090.py:15: FutureWarning: 'S' is deprecated and will be removed in a future version, please use 's' instead.\n",
      "  .resample('1S')\n"
     ]
    },
    {
     "name": "stdout",
     "output_type": "stream",
     "text": [
      "Processed 2024-06-18.feather → 83502 seconds\n"
     ]
    },
    {
     "name": "stderr",
     "output_type": "stream",
     "text": [
      "/var/folders/nn/80hngvbx12l0bp84pd944rqw0000gn/T/ipykernel_26251/1128474090.py:15: FutureWarning: 'S' is deprecated and will be removed in a future version, please use 's' instead.\n",
      "  .resample('1S')\n"
     ]
    },
    {
     "name": "stdout",
     "output_type": "stream",
     "text": [
      "Processed 2024-06-19.feather → 80424 seconds\n"
     ]
    },
    {
     "name": "stderr",
     "output_type": "stream",
     "text": [
      "/var/folders/nn/80hngvbx12l0bp84pd944rqw0000gn/T/ipykernel_26251/1128474090.py:15: FutureWarning: 'S' is deprecated and will be removed in a future version, please use 's' instead.\n",
      "  .resample('1S')\n"
     ]
    },
    {
     "name": "stdout",
     "output_type": "stream",
     "text": [
      "Processed 2024-06-20.feather → 79744 seconds\n"
     ]
    },
    {
     "name": "stderr",
     "output_type": "stream",
     "text": [
      "/var/folders/nn/80hngvbx12l0bp84pd944rqw0000gn/T/ipykernel_26251/1128474090.py:15: FutureWarning: 'S' is deprecated and will be removed in a future version, please use 's' instead.\n",
      "  .resample('1S')\n",
      "/var/folders/nn/80hngvbx12l0bp84pd944rqw0000gn/T/ipykernel_26251/1128474090.py:15: FutureWarning: 'S' is deprecated and will be removed in a future version, please use 's' instead.\n",
      "  .resample('1S')\n"
     ]
    },
    {
     "name": "stdout",
     "output_type": "stream",
     "text": [
      "Processed 2024-06-21.feather → 80518 seconds\n",
      "Processed 2024-06-22.feather → 76927 seconds\n"
     ]
    },
    {
     "name": "stderr",
     "output_type": "stream",
     "text": [
      "/var/folders/nn/80hngvbx12l0bp84pd944rqw0000gn/T/ipykernel_26251/1128474090.py:15: FutureWarning: 'S' is deprecated and will be removed in a future version, please use 's' instead.\n",
      "  .resample('1S')\n"
     ]
    },
    {
     "name": "stdout",
     "output_type": "stream",
     "text": [
      "Processed 2024-06-23.feather → 75450 seconds\n"
     ]
    },
    {
     "name": "stderr",
     "output_type": "stream",
     "text": [
      "/var/folders/nn/80hngvbx12l0bp84pd944rqw0000gn/T/ipykernel_26251/1128474090.py:15: FutureWarning: 'S' is deprecated and will be removed in a future version, please use 's' instead.\n",
      "  .resample('1S')\n"
     ]
    },
    {
     "name": "stdout",
     "output_type": "stream",
     "text": [
      "Processed 2024-06-24.feather → 83835 seconds\n"
     ]
    },
    {
     "name": "stderr",
     "output_type": "stream",
     "text": [
      "/var/folders/nn/80hngvbx12l0bp84pd944rqw0000gn/T/ipykernel_26251/1128474090.py:15: FutureWarning: 'S' is deprecated and will be removed in a future version, please use 's' instead.\n",
      "  .resample('1S')\n"
     ]
    },
    {
     "name": "stdout",
     "output_type": "stream",
     "text": [
      "Processed 2024-06-25.feather → 81346 seconds\n"
     ]
    },
    {
     "name": "stderr",
     "output_type": "stream",
     "text": [
      "/var/folders/nn/80hngvbx12l0bp84pd944rqw0000gn/T/ipykernel_26251/1128474090.py:15: FutureWarning: 'S' is deprecated and will be removed in a future version, please use 's' instead.\n",
      "  .resample('1S')\n"
     ]
    },
    {
     "name": "stdout",
     "output_type": "stream",
     "text": [
      "Processed 2024-06-26.feather → 80196 seconds\n"
     ]
    },
    {
     "name": "stderr",
     "output_type": "stream",
     "text": [
      "/var/folders/nn/80hngvbx12l0bp84pd944rqw0000gn/T/ipykernel_26251/1128474090.py:15: FutureWarning: 'S' is deprecated and will be removed in a future version, please use 's' instead.\n",
      "  .resample('1S')\n"
     ]
    },
    {
     "name": "stdout",
     "output_type": "stream",
     "text": [
      "Processed 2024-06-27.feather → 78412 seconds\n"
     ]
    },
    {
     "name": "stderr",
     "output_type": "stream",
     "text": [
      "/var/folders/nn/80hngvbx12l0bp84pd944rqw0000gn/T/ipykernel_26251/1128474090.py:15: FutureWarning: 'S' is deprecated and will be removed in a future version, please use 's' instead.\n",
      "  .resample('1S')\n",
      "/var/folders/nn/80hngvbx12l0bp84pd944rqw0000gn/T/ipykernel_26251/1128474090.py:15: FutureWarning: 'S' is deprecated and will be removed in a future version, please use 's' instead.\n",
      "  .resample('1S')\n"
     ]
    },
    {
     "name": "stdout",
     "output_type": "stream",
     "text": [
      "Processed 2024-06-28.feather → 79653 seconds\n",
      "Processed 2024-06-29.feather → 76915 seconds\n"
     ]
    },
    {
     "name": "stderr",
     "output_type": "stream",
     "text": [
      "/var/folders/nn/80hngvbx12l0bp84pd944rqw0000gn/T/ipykernel_26251/1128474090.py:15: FutureWarning: 'S' is deprecated and will be removed in a future version, please use 's' instead.\n",
      "  .resample('1S')\n"
     ]
    },
    {
     "name": "stdout",
     "output_type": "stream",
     "text": [
      "Processed 2024-06-30.feather → 76365 seconds\n"
     ]
    },
    {
     "name": "stderr",
     "output_type": "stream",
     "text": [
      "/var/folders/nn/80hngvbx12l0bp84pd944rqw0000gn/T/ipykernel_26251/1128474090.py:31: FutureWarning: 'S' is deprecated and will be removed in a future version, please use 's' instead.\n",
      "  spot_1s = spot_1s.asfreq('1S').ffill()\n"
     ]
    },
    {
     "name": "stdout",
     "output_type": "stream",
     "text": [
      "Saved btc_spot_1s.parquet with 15,638,400 rows\n"
     ]
    }
   ],
   "source": [
    "spot_path = Path(\"../raw/spot/feather/binance/BTCUSDT\")\n",
    "output_file = Path(\"../parsed/spot/btc_spot_1s.parquet\")\n",
    "\n",
    "\n",
    "spot_files = sorted(spot_path.glob(\"*.feather\"))\n",
    "print(f\"Found {len(spot_files)} files\")\n",
    "\n",
    "spot_1s_list = []\n",
    "\n",
    "for f in spot_files:\n",
    "    df = pd.read_feather(f)\n",
    "    df['datetime'] = pd.to_datetime(df['timestamp'], unit='us', utc=True)\n",
    "    \n",
    "    df_1s = (\n",
    "        df.set_index('datetime')\n",
    "          .resample('1s')\n",
    "          .agg({\n",
    "              'price': ['first', 'max', 'min', 'last'],\n",
    "              'quantity': 'sum'\n",
    "          })\n",
    "          .dropna()\n",
    "    )\n",
    "    df_1s.columns = ['open', 'high', 'low', 'close', 'volume']\n",
    "    spot_1s_list.append(df_1s)\n",
    "    \n",
    "    print(f\"Processed {f.name} → {len(df_1s)} seconds\")\n",
    "\n",
    "# Combine all daily 1s bars\n",
    "spot_1s = pd.concat(spot_1s_list).sort_index()\n",
    "\n",
    "# Fill missing seconds\n",
    "spot_1s = spot_1s.asfreq('1S').ffill()\n",
    "\n",
    "spot_1s.to_parquet(output_file)\n",
    "print(f\"Saved {output_file} with {len(spot_1s):,} rows\")\n",
    "\n"
   ]
  },
  {
   "cell_type": "code",
   "execution_count": 13,
   "id": "81c7a8e5",
   "metadata": {},
   "outputs": [
    {
     "name": "stdout",
     "output_type": "stream",
     "text": [
      "=== File Overview ===\n",
      "Rows: 15,638,400\n",
      "Columns: ['open', 'high', 'low', 'close', 'volume']\n",
      "Time range: 2024-01-02 00:00:00+00:00 to 2024-06-30 23:59:59+00:00\n",
      "\n",
      "--- Head ---\n",
      "                               open      high       low     close   volume\n",
      "datetime                                                                  \n",
      "2024-01-02 00:00:00+00:00  44179.55  44183.68  44179.54  44183.67  3.22085\n",
      "2024-01-02 00:00:01+00:00  44183.67  44183.67  44174.30  44174.30  9.47101\n",
      "2024-01-02 00:00:02+00:00  44174.30  44174.30  44169.61  44173.67  9.26707\n",
      "2024-01-02 00:00:03+00:00  44173.68  44181.55  44173.68  44181.54  4.63683\n",
      "2024-01-02 00:00:04+00:00  44181.54  44181.55  44181.54  44181.55  0.18476\n",
      "\n",
      "--- Tail ---\n",
      "                               open      high      low     close   volume\n",
      "datetime                                                                 \n",
      "2024-06-30 23:59:55+00:00  62772.00  62772.00  62772.0  62772.00  0.00167\n",
      "2024-06-30 23:59:56+00:00  62772.01  62772.01  62772.0  62772.00  0.06558\n",
      "2024-06-30 23:59:57+00:00  62772.01  62772.01  62772.0  62772.01  0.00102\n",
      "2024-06-30 23:59:58+00:00  62772.01  62772.01  62772.0  62772.01  0.00102\n",
      "2024-06-30 23:59:59+00:00  62772.01  62772.01  62772.0  62772.01  0.29688\n",
      "\n",
      "--- Summary statistics ---\n",
      "               open          high           low         close        volume\n",
      "count  1.563840e+07  1.563840e+07  1.563840e+07  1.563840e+07  1.563840e+07\n",
      "mean   5.963682e+04  5.963770e+04  5.963594e+04  5.963682e+04  4.616414e-01\n",
      "std    1.016501e+04  1.016518e+04  1.016484e+04  1.016501e+04  1.895723e+00\n",
      "min    3.855600e+04  3.855600e+04  3.855500e+04  3.855599e+04  1.000000e-05\n",
      "25%    5.114277e+04  5.114313e+04  5.114201e+04  5.114277e+04  7.760000e-03\n",
      "50%    6.366141e+04  6.366219e+04  6.366005e+04  6.366141e+04  5.013000e-02\n",
      "75%    6.766764e+04  6.766801e+04  6.766666e+04  6.766763e+04  2.958400e-01\n",
      "max    7.377699e+04  7.377700e+04  7.377699e+04  7.377700e+04  3.366587e+02\n"
     ]
    }
   ],
   "source": [
    "file_path = \"../parsed/spot/btc_spot_1s.parquet\"\n",
    "\n",
    "df = pd.read_parquet(file_path)\n",
    "\n",
    "# Overview\n",
    "print(\"=== File Overview ===\")\n",
    "print(f\"Rows: {len(df):,}\")\n",
    "print(f\"Columns: {list(df.columns)}\")\n",
    "print(f\"Time range: {df.index.min()} to {df.index.max()}\")\n",
    "\n",
    "# Peek at first 5 rows\n",
    "print(\"\\n--- Head ---\")\n",
    "print(df.head())\n",
    "\n",
    "# Peek at last 5 rows\n",
    "print(\"\\n--- Tail ---\")\n",
    "print(df.tail())\n",
    "\n",
    "# Summary stats\n",
    "print(\"\\n--- Summary statistics ---\")\n",
    "print(df.describe())"
   ]
  },
  {
   "cell_type": "code",
   "execution_count": 18,
   "id": "c12da70e",
   "metadata": {},
   "outputs": [
    {
     "name": "stdout",
     "output_type": "stream",
     "text": [
      "Found 182 files\n",
      "Loaded 2024-01-02.feather → 17,478 rows after filtering\n",
      "Loaded 2024-01-03.feather → 20,820 rows after filtering\n",
      "Loaded 2024-01-04.feather → 15,180 rows after filtering\n",
      "Loaded 2024-01-05.feather → 16,979 rows after filtering\n",
      "Loaded 2024-01-06.feather → 9,198 rows after filtering\n",
      "Loaded 2024-01-07.feather → 8,435 rows after filtering\n",
      "Loaded 2024-01-08.feather → 24,544 rows after filtering\n",
      "Saved ../btc_options_2024-01-02_2024-01-09.parquet with 112,634 rows\n",
      "Time range: 2024-01-02 00:00:00.593000+00:00 → 2024-01-08 23:59:48.600000+00:00\n"
     ]
    }
   ],
   "source": [
    "# === CONFIG ===\n",
    "options_path = Path(\"../raw/options/feather/deribit/BTC\")  # folder with raw option files\n",
    "output_file = Path(\"../btc_options_2024-01-02_2024-01-09.parquet\")\n",
    "output_file.parent.mkdir(parents=True, exist_ok=True)\n",
    "\n",
    "# Date filter (UTC)\n",
    "start_date = pd.Timestamp(\"2024-01-02\", tz=\"UTC\")\n",
    "end_date   = pd.Timestamp(\"2024-01-09\", tz=\"UTC\")\n",
    "\n",
    "option_files = sorted(options_path.glob(\"*.feather\"))\n",
    "print(f\"Found {len(option_files)} files\")\n",
    "\n",
    "dfs = []\n",
    "for f in option_files:\n",
    "    df = pd.read_feather(f)\n",
    "    \n",
    "    # Convert timestamp\n",
    "    df['datetime'] = pd.to_datetime(df['timestamp'], unit='us', utc=True)\n",
    "    \n",
    "    # Filter by date range\n",
    "    df = df[(df['datetime'] >= start_date) & (df['datetime'] < end_date)]\n",
    "    \n",
    "    if not df.empty:\n",
    "        dfs.append(df)\n",
    "        print(f\"Loaded {f.name} → {len(df):,} rows after filtering\")\n",
    "\n",
    "# Combine and sort\n",
    "options = pd.concat(dfs, ignore_index=True).sort_values(\"datetime\")\n",
    "\n",
    "# Save filtered file\n",
    "options.to_parquet(output_file)\n",
    "print(f\"Saved {output_file} with {len(options):,} rows\")\n",
    "print(f\"Time range: {options['datetime'].min()} → {options['datetime'].max()}\")\n"
   ]
  },
  {
   "cell_type": "code",
   "execution_count": 34,
   "id": "490b968c",
   "metadata": {},
   "outputs": [
    {
     "name": "stdout",
     "output_type": "stream",
     "text": [
      "=== SPOT DATA ===\n",
      "Rows: 15,638,400 | Columns: ['open', 'high', 'low', 'close', 'volume']\n",
      "Index range: 2024-01-02 00:00:00+00:00 → 2024-06-30 23:59:59+00:00\n",
      "\n",
      "Head:\n",
      "                                open      high       low     close   volume\n",
      "datetime                                                                  \n",
      "2024-01-02 00:00:00+00:00  44179.55  44183.68  44179.54  44183.67  3.22085\n",
      "2024-01-02 00:00:01+00:00  44183.67  44183.67  44174.30  44174.30  9.47101\n",
      "2024-01-02 00:00:02+00:00  44174.30  44174.30  44169.61  44173.67  9.26707\n",
      "2024-01-02 00:00:03+00:00  44173.68  44181.55  44173.68  44181.54  4.63683\n",
      "2024-01-02 00:00:04+00:00  44181.54  44181.55  44181.54  44181.55  0.18476 \n",
      "Tail:\n",
      "                                open      high      low     close   volume\n",
      "datetime                                                                 \n",
      "2024-06-30 23:59:55+00:00  62772.00  62772.00  62772.0  62772.00  0.00167\n",
      "2024-06-30 23:59:56+00:00  62772.01  62772.01  62772.0  62772.00  0.06558\n",
      "2024-06-30 23:59:57+00:00  62772.01  62772.01  62772.0  62772.01  0.00102\n",
      "2024-06-30 23:59:58+00:00  62772.01  62772.01  62772.0  62772.01  0.00102\n",
      "2024-06-30 23:59:59+00:00  62772.01  62772.01  62772.0  62772.01  0.29688\n",
      "\n",
      "=== OPTIONS DATA ===\n",
      "Rows: 112,634 | Cols: 10\n",
      "Columns: ['timestamp', 'id', 'price', 'quantity', 'is_buyer_maker', 'instrument', 'iv', 'mark_price', 'index_price', 'datetime']\n",
      "Time range: 2024-01-02 00:00:00.593000+00:00 → 2024-01-08 23:59:48.600000+00:00\n"
     ]
    }
   ],
   "source": [
    "spot_file = Path(\"../btc_spot_1s.parquet\")\n",
    "opt_file  = Path(\"../btc_options_2024-01-02_2024-01-09.parquet\")\n",
    "\n",
    "# Load files\n",
    "spot = pd.read_parquet(spot_file)\n",
    "options = pd.read_parquet(opt_file)\n",
    "\n",
    "print(\"=== SPOT DATA ===\")\n",
    "print(f\"Rows: {len(spot):,} | Columns: {list(spot.columns)}\")\n",
    "if 'datetime' in spot.columns:\n",
    "    print(f\"Time range: {spot['datetime'].min()} → {spot['datetime'].max()}\")\n",
    "else:\n",
    "    print(f\"Index range: {spot.index.min()} → {spot.index.max()}\")\n",
    "print(\"\\nHead:\\n\", spot.head(), \"\\nTail:\\n\", spot.tail())\n",
    "\n",
    "# Always show all columns without truncation\n",
    "pd.set_option(\"display.max_columns\", None)\n",
    "pd.set_option(\"display.width\", None)\n",
    "\n",
    "print(\"\\n=== OPTIONS DATA ===\")\n",
    "print(f\"Rows: {len(options):,} | Cols: {options.shape[1]}\")\n",
    "print(f\"Columns: {list(options.columns)}\")\n",
    "\n",
    "if 'datetime' in options.columns:\n",
    "    print(f\"Time range: {options['datetime'].min()} → {options['datetime'].max()}\")\n",
    "else:\n",
    "    print(f\"Index range: {options.index.min()} → {options.index.max()}\")\n",
    "\n"
   ]
  }
 ],
 "metadata": {
  "kernelspec": {
   "display_name": "base",
   "language": "python",
   "name": "python3"
  },
  "language_info": {
   "codemirror_mode": {
    "name": "ipython",
    "version": 3
   },
   "file_extension": ".py",
   "mimetype": "text/x-python",
   "name": "python",
   "nbconvert_exporter": "python",
   "pygments_lexer": "ipython3",
   "version": "3.13.5"
  }
 },
 "nbformat": 4,
 "nbformat_minor": 5
}
